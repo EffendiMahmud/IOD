{
 "cells": [
  {
   "cell_type": "markdown",
   "metadata": {
    "colab_type": "text",
    "id": "gn3SG1yo1KdV"
   },
   "source": [
    "<div>\n",
    "<img src=https://www.institutedata.com/wp-content/uploads/2019/10/iod_h_tp_primary_c.svg width=\"300\">\n",
    "</div>"
   ]
  },
  {
   "cell_type": "markdown",
   "metadata": {
    "colab_type": "text",
    "id": "g-SD7a9X1KdY"
   },
   "source": [
    "# Lab 10.1: NN with Keras\n",
    "INSTRUCTIONS:\n",
    "- Read the guides and hints, then create the necessary analysis and code to find an answer and conclusion for the task below.\n",
    "- **NOTE**: This is a Regression problem. Consider the appropriate:\n",
    "    - Activation function\n",
    "    - Loss/Cost Function\n",
    "    - Metrics"
   ]
  },
  {
   "cell_type": "markdown",
   "metadata": {
    "colab_type": "text",
    "id": "ENgfRnvL1Kdc"
   },
   "source": [
    "### Import libraries"
   ]
  },
  {
   "cell_type": "code",
   "execution_count": 1,
   "metadata": {
    "colab": {},
    "colab_type": "code",
    "id": "Z9H465X-1Kde"
   },
   "outputs": [],
   "source": [
    "## Import libraries\n",
    "import numpy as np\n",
    "\n",
    "%matplotlib inline\n",
    "import matplotlib.pyplot as plt\n",
    "\n",
    "from sklearn.datasets import load_digits\n",
    "from sklearn.metrics import confusion_matrix\n",
    "from sklearn.model_selection import train_test_split\n",
    "from sklearn.metrics import classification_report, accuracy_score\n",
    "from sklearn.preprocessing import Normalizer\n",
    "\n",
    "# import keras\n",
    "from keras.models import Sequential\n",
    "from keras.layers import Dense\n",
    "# from keras.utils import to_categorical\n",
    "from tensorflow.keras.utils import to_categorical\n",
    "import tensorflow as tf\n",
    "from tensorflow import keras\n",
    "from tensorflow.keras import layers\n"
   ]
  },
  {
   "cell_type": "markdown",
   "metadata": {
    "colab_type": "text",
    "id": "5FHh910J1Kdm"
   },
   "source": [
    "### Load data\n",
    "Load the Diabetes dataset from **SciKit-Learn**."
   ]
  },
  {
   "cell_type": "code",
   "execution_count": 2,
   "metadata": {
    "colab": {},
    "colab_type": "code",
    "id": "MWu8SlQF1Kdo"
   },
   "outputs": [],
   "source": [
    "# insert code here\n",
    "import sklearn\n",
    "from sklearn.datasets import load_diabetes\n",
    "\n",
    "X, y = load_diabetes(return_X_y = True)\n"
   ]
  },
  {
   "cell_type": "code",
   "execution_count": 3,
   "metadata": {},
   "outputs": [
    {
     "data": {
      "text/plain": [
       "(442, 10)"
      ]
     },
     "execution_count": 3,
     "metadata": {},
     "output_type": "execute_result"
    }
   ],
   "source": [
    "X.shape"
   ]
  },
  {
   "cell_type": "code",
   "execution_count": 4,
   "metadata": {},
   "outputs": [
    {
     "data": {
      "text/plain": [
       "(442,)"
      ]
     },
     "execution_count": 4,
     "metadata": {},
     "output_type": "execute_result"
    }
   ],
   "source": [
    "y.shape"
   ]
  },
  {
   "cell_type": "code",
   "execution_count": 5,
   "metadata": {},
   "outputs": [
    {
     "data": {
      "text/plain": [
       "array([[ 0.03807591,  0.05068012,  0.06169621, ..., -0.00259226,\n",
       "         0.01990842, -0.01764613],\n",
       "       [-0.00188202, -0.04464164, -0.05147406, ..., -0.03949338,\n",
       "        -0.06832974, -0.09220405],\n",
       "       [ 0.08529891,  0.05068012,  0.04445121, ..., -0.00259226,\n",
       "         0.00286377, -0.02593034],\n",
       "       ...,\n",
       "       [ 0.04170844,  0.05068012, -0.01590626, ..., -0.01107952,\n",
       "        -0.04687948,  0.01549073],\n",
       "       [-0.04547248, -0.04464164,  0.03906215, ...,  0.02655962,\n",
       "         0.04452837, -0.02593034],\n",
       "       [-0.04547248, -0.04464164, -0.0730303 , ..., -0.03949338,\n",
       "        -0.00421986,  0.00306441]])"
      ]
     },
     "execution_count": 5,
     "metadata": {},
     "output_type": "execute_result"
    }
   ],
   "source": [
    "X"
   ]
  },
  {
   "cell_type": "code",
   "execution_count": 6,
   "metadata": {},
   "outputs": [
    {
     "data": {
      "text/plain": [
       "array([151.,  75., 141., 206., 135.,  97., 138.,  63., 110., 310., 101.,\n",
       "        69., 179., 185., 118., 171., 166., 144.,  97., 168.,  68.,  49.,\n",
       "        68., 245., 184., 202., 137.,  85., 131., 283., 129.,  59., 341.,\n",
       "        87.,  65., 102., 265., 276., 252.,  90., 100.,  55.,  61.,  92.,\n",
       "       259.,  53., 190., 142.,  75., 142., 155., 225.,  59., 104., 182.,\n",
       "       128.,  52.,  37., 170., 170.,  61., 144.,  52., 128.,  71., 163.,\n",
       "       150.,  97., 160., 178.,  48., 270., 202., 111.,  85.,  42., 170.,\n",
       "       200., 252., 113., 143.,  51.,  52., 210.,  65., 141.,  55., 134.,\n",
       "        42., 111.,  98., 164.,  48.,  96.,  90., 162., 150., 279.,  92.,\n",
       "        83., 128., 102., 302., 198.,  95.,  53., 134., 144., 232.,  81.,\n",
       "       104.,  59., 246., 297., 258., 229., 275., 281., 179., 200., 200.,\n",
       "       173., 180.,  84., 121., 161.,  99., 109., 115., 268., 274., 158.,\n",
       "       107.,  83., 103., 272.,  85., 280., 336., 281., 118., 317., 235.,\n",
       "        60., 174., 259., 178., 128.,  96., 126., 288.,  88., 292.,  71.,\n",
       "       197., 186.,  25.,  84.,  96., 195.,  53., 217., 172., 131., 214.,\n",
       "        59.,  70., 220., 268., 152.,  47.,  74., 295., 101., 151., 127.,\n",
       "       237., 225.,  81., 151., 107.,  64., 138., 185., 265., 101., 137.,\n",
       "       143., 141.,  79., 292., 178.,  91., 116.,  86., 122.,  72., 129.,\n",
       "       142.,  90., 158.,  39., 196., 222., 277.,  99., 196., 202., 155.,\n",
       "        77., 191.,  70.,  73.,  49.,  65., 263., 248., 296., 214., 185.,\n",
       "        78.,  93., 252., 150.,  77., 208.,  77., 108., 160.,  53., 220.,\n",
       "       154., 259.,  90., 246., 124.,  67.,  72., 257., 262., 275., 177.,\n",
       "        71.,  47., 187., 125.,  78.,  51., 258., 215., 303., 243.,  91.,\n",
       "       150., 310., 153., 346.,  63.,  89.,  50.,  39., 103., 308., 116.,\n",
       "       145.,  74.,  45., 115., 264.,  87., 202., 127., 182., 241.,  66.,\n",
       "        94., 283.,  64., 102., 200., 265.,  94., 230., 181., 156., 233.,\n",
       "        60., 219.,  80.,  68., 332., 248.,  84., 200.,  55.,  85.,  89.,\n",
       "        31., 129.,  83., 275.,  65., 198., 236., 253., 124.,  44., 172.,\n",
       "       114., 142., 109., 180., 144., 163., 147.,  97., 220., 190., 109.,\n",
       "       191., 122., 230., 242., 248., 249., 192., 131., 237.,  78., 135.,\n",
       "       244., 199., 270., 164.,  72.,  96., 306.,  91., 214.,  95., 216.,\n",
       "       263., 178., 113., 200., 139., 139.,  88., 148.,  88., 243.,  71.,\n",
       "        77., 109., 272.,  60.,  54., 221.,  90., 311., 281., 182., 321.,\n",
       "        58., 262., 206., 233., 242., 123., 167.,  63., 197.,  71., 168.,\n",
       "       140., 217., 121., 235., 245.,  40.,  52., 104., 132.,  88.,  69.,\n",
       "       219.,  72., 201., 110.,  51., 277.,  63., 118.,  69., 273., 258.,\n",
       "        43., 198., 242., 232., 175.,  93., 168., 275., 293., 281.,  72.,\n",
       "       140., 189., 181., 209., 136., 261., 113., 131., 174., 257.,  55.,\n",
       "        84.,  42., 146., 212., 233.,  91., 111., 152., 120.,  67., 310.,\n",
       "        94., 183.,  66., 173.,  72.,  49.,  64.,  48., 178., 104., 132.,\n",
       "       220.,  57.])"
      ]
     },
     "execution_count": 6,
     "metadata": {},
     "output_type": "execute_result"
    }
   ],
   "source": [
    "y"
   ]
  },
  {
   "cell_type": "markdown",
   "metadata": {
    "colab_type": "text",
    "id": "xR_yLpR01Kdr"
   },
   "source": [
    "### Prepare input data"
   ]
  },
  {
   "cell_type": "code",
   "execution_count": 7,
   "metadata": {
    "colab": {},
    "colab_type": "code",
    "id": "Sp2mf2bB1Kds"
   },
   "outputs": [
    {
     "name": "stdout",
     "output_type": "stream",
     "text": [
      "          age       sex       bmi        bp        tc       ldl       hdl  \\\n",
      "0    0.038076  0.050680  0.061696  0.021872 -0.044223 -0.034821 -0.043401   \n",
      "1   -0.001882 -0.044642 -0.051474 -0.026328 -0.008449 -0.019163  0.074412   \n",
      "2    0.085299  0.050680  0.044451 -0.005671 -0.045599 -0.034194 -0.032356   \n",
      "3   -0.089063 -0.044642 -0.011595 -0.036656  0.012191  0.024991 -0.036038   \n",
      "4    0.005383 -0.044642 -0.036385  0.021872  0.003935  0.015596  0.008142   \n",
      "..        ...       ...       ...       ...       ...       ...       ...   \n",
      "437  0.041708  0.050680  0.019662  0.059744 -0.005697 -0.002566 -0.028674   \n",
      "438 -0.005515  0.050680 -0.015906 -0.067642  0.049341  0.079165 -0.028674   \n",
      "439  0.041708  0.050680 -0.015906  0.017282 -0.037344 -0.013840 -0.024993   \n",
      "440 -0.045472 -0.044642  0.039062  0.001215  0.016318  0.015283 -0.028674   \n",
      "441 -0.045472 -0.044642 -0.073030 -0.081414  0.083740  0.027809  0.173816   \n",
      "\n",
      "          tch       ltg       glu  \n",
      "0   -0.002592  0.019908 -0.017646  \n",
      "1   -0.039493 -0.068330 -0.092204  \n",
      "2   -0.002592  0.002864 -0.025930  \n",
      "3    0.034309  0.022692 -0.009362  \n",
      "4   -0.002592 -0.031991 -0.046641  \n",
      "..        ...       ...       ...  \n",
      "437 -0.002592  0.031193  0.007207  \n",
      "438  0.034309 -0.018118  0.044485  \n",
      "439 -0.011080 -0.046879  0.015491  \n",
      "440  0.026560  0.044528 -0.025930  \n",
      "441 -0.039493 -0.004220  0.003064  \n",
      "\n",
      "[442 rows x 10 columns]\n"
     ]
    }
   ],
   "source": [
    "# insert code here\n",
    "import pandas as pd\n",
    "df1 = pd.DataFrame(X, columns=[\"age\", \"sex\", \"bmi\", \"bp\", \"tc\", \"ldl\", \"hdl\", \"tch\", \"ltg\", \"glu\"])\n",
    "print(df1)"
   ]
  },
  {
   "cell_type": "code",
   "execution_count": 8,
   "metadata": {},
   "outputs": [
    {
     "name": "stdout",
     "output_type": "stream",
     "text": [
      "     disease_progression\n",
      "0                  151.0\n",
      "1                   75.0\n",
      "2                  141.0\n",
      "3                  206.0\n",
      "4                  135.0\n",
      "..                   ...\n",
      "437                178.0\n",
      "438                104.0\n",
      "439                132.0\n",
      "440                220.0\n",
      "441                 57.0\n",
      "\n",
      "[442 rows x 1 columns]\n"
     ]
    }
   ],
   "source": [
    "df2 = pd.DataFrame(y, columns=[\"disease_progression\"])\n",
    "print(df2)"
   ]
  },
  {
   "cell_type": "code",
   "execution_count": 9,
   "metadata": {},
   "outputs": [
    {
     "data": {
      "text/html": [
       "<div>\n",
       "<style scoped>\n",
       "    .dataframe tbody tr th:only-of-type {\n",
       "        vertical-align: middle;\n",
       "    }\n",
       "\n",
       "    .dataframe tbody tr th {\n",
       "        vertical-align: top;\n",
       "    }\n",
       "\n",
       "    .dataframe thead th {\n",
       "        text-align: right;\n",
       "    }\n",
       "</style>\n",
       "<table border=\"1\" class=\"dataframe\">\n",
       "  <thead>\n",
       "    <tr style=\"text-align: right;\">\n",
       "      <th></th>\n",
       "      <th>age</th>\n",
       "      <th>sex</th>\n",
       "      <th>bmi</th>\n",
       "      <th>bp</th>\n",
       "      <th>tc</th>\n",
       "      <th>ldl</th>\n",
       "      <th>hdl</th>\n",
       "      <th>tch</th>\n",
       "      <th>ltg</th>\n",
       "      <th>glu</th>\n",
       "      <th>disease_progression</th>\n",
       "    </tr>\n",
       "  </thead>\n",
       "  <tbody>\n",
       "    <tr>\n",
       "      <th>0</th>\n",
       "      <td>0.038076</td>\n",
       "      <td>0.050680</td>\n",
       "      <td>0.061696</td>\n",
       "      <td>0.021872</td>\n",
       "      <td>-0.044223</td>\n",
       "      <td>-0.034821</td>\n",
       "      <td>-0.043401</td>\n",
       "      <td>-0.002592</td>\n",
       "      <td>0.019908</td>\n",
       "      <td>-0.017646</td>\n",
       "      <td>151.0</td>\n",
       "    </tr>\n",
       "    <tr>\n",
       "      <th>1</th>\n",
       "      <td>-0.001882</td>\n",
       "      <td>-0.044642</td>\n",
       "      <td>-0.051474</td>\n",
       "      <td>-0.026328</td>\n",
       "      <td>-0.008449</td>\n",
       "      <td>-0.019163</td>\n",
       "      <td>0.074412</td>\n",
       "      <td>-0.039493</td>\n",
       "      <td>-0.068330</td>\n",
       "      <td>-0.092204</td>\n",
       "      <td>75.0</td>\n",
       "    </tr>\n",
       "    <tr>\n",
       "      <th>2</th>\n",
       "      <td>0.085299</td>\n",
       "      <td>0.050680</td>\n",
       "      <td>0.044451</td>\n",
       "      <td>-0.005671</td>\n",
       "      <td>-0.045599</td>\n",
       "      <td>-0.034194</td>\n",
       "      <td>-0.032356</td>\n",
       "      <td>-0.002592</td>\n",
       "      <td>0.002864</td>\n",
       "      <td>-0.025930</td>\n",
       "      <td>141.0</td>\n",
       "    </tr>\n",
       "    <tr>\n",
       "      <th>3</th>\n",
       "      <td>-0.089063</td>\n",
       "      <td>-0.044642</td>\n",
       "      <td>-0.011595</td>\n",
       "      <td>-0.036656</td>\n",
       "      <td>0.012191</td>\n",
       "      <td>0.024991</td>\n",
       "      <td>-0.036038</td>\n",
       "      <td>0.034309</td>\n",
       "      <td>0.022692</td>\n",
       "      <td>-0.009362</td>\n",
       "      <td>206.0</td>\n",
       "    </tr>\n",
       "    <tr>\n",
       "      <th>4</th>\n",
       "      <td>0.005383</td>\n",
       "      <td>-0.044642</td>\n",
       "      <td>-0.036385</td>\n",
       "      <td>0.021872</td>\n",
       "      <td>0.003935</td>\n",
       "      <td>0.015596</td>\n",
       "      <td>0.008142</td>\n",
       "      <td>-0.002592</td>\n",
       "      <td>-0.031991</td>\n",
       "      <td>-0.046641</td>\n",
       "      <td>135.0</td>\n",
       "    </tr>\n",
       "    <tr>\n",
       "      <th>...</th>\n",
       "      <td>...</td>\n",
       "      <td>...</td>\n",
       "      <td>...</td>\n",
       "      <td>...</td>\n",
       "      <td>...</td>\n",
       "      <td>...</td>\n",
       "      <td>...</td>\n",
       "      <td>...</td>\n",
       "      <td>...</td>\n",
       "      <td>...</td>\n",
       "      <td>...</td>\n",
       "    </tr>\n",
       "    <tr>\n",
       "      <th>437</th>\n",
       "      <td>0.041708</td>\n",
       "      <td>0.050680</td>\n",
       "      <td>0.019662</td>\n",
       "      <td>0.059744</td>\n",
       "      <td>-0.005697</td>\n",
       "      <td>-0.002566</td>\n",
       "      <td>-0.028674</td>\n",
       "      <td>-0.002592</td>\n",
       "      <td>0.031193</td>\n",
       "      <td>0.007207</td>\n",
       "      <td>178.0</td>\n",
       "    </tr>\n",
       "    <tr>\n",
       "      <th>438</th>\n",
       "      <td>-0.005515</td>\n",
       "      <td>0.050680</td>\n",
       "      <td>-0.015906</td>\n",
       "      <td>-0.067642</td>\n",
       "      <td>0.049341</td>\n",
       "      <td>0.079165</td>\n",
       "      <td>-0.028674</td>\n",
       "      <td>0.034309</td>\n",
       "      <td>-0.018118</td>\n",
       "      <td>0.044485</td>\n",
       "      <td>104.0</td>\n",
       "    </tr>\n",
       "    <tr>\n",
       "      <th>439</th>\n",
       "      <td>0.041708</td>\n",
       "      <td>0.050680</td>\n",
       "      <td>-0.015906</td>\n",
       "      <td>0.017282</td>\n",
       "      <td>-0.037344</td>\n",
       "      <td>-0.013840</td>\n",
       "      <td>-0.024993</td>\n",
       "      <td>-0.011080</td>\n",
       "      <td>-0.046879</td>\n",
       "      <td>0.015491</td>\n",
       "      <td>132.0</td>\n",
       "    </tr>\n",
       "    <tr>\n",
       "      <th>440</th>\n",
       "      <td>-0.045472</td>\n",
       "      <td>-0.044642</td>\n",
       "      <td>0.039062</td>\n",
       "      <td>0.001215</td>\n",
       "      <td>0.016318</td>\n",
       "      <td>0.015283</td>\n",
       "      <td>-0.028674</td>\n",
       "      <td>0.026560</td>\n",
       "      <td>0.044528</td>\n",
       "      <td>-0.025930</td>\n",
       "      <td>220.0</td>\n",
       "    </tr>\n",
       "    <tr>\n",
       "      <th>441</th>\n",
       "      <td>-0.045472</td>\n",
       "      <td>-0.044642</td>\n",
       "      <td>-0.073030</td>\n",
       "      <td>-0.081414</td>\n",
       "      <td>0.083740</td>\n",
       "      <td>0.027809</td>\n",
       "      <td>0.173816</td>\n",
       "      <td>-0.039493</td>\n",
       "      <td>-0.004220</td>\n",
       "      <td>0.003064</td>\n",
       "      <td>57.0</td>\n",
       "    </tr>\n",
       "  </tbody>\n",
       "</table>\n",
       "<p>442 rows × 11 columns</p>\n",
       "</div>"
      ],
      "text/plain": [
       "          age       sex       bmi        bp        tc       ldl       hdl  \\\n",
       "0    0.038076  0.050680  0.061696  0.021872 -0.044223 -0.034821 -0.043401   \n",
       "1   -0.001882 -0.044642 -0.051474 -0.026328 -0.008449 -0.019163  0.074412   \n",
       "2    0.085299  0.050680  0.044451 -0.005671 -0.045599 -0.034194 -0.032356   \n",
       "3   -0.089063 -0.044642 -0.011595 -0.036656  0.012191  0.024991 -0.036038   \n",
       "4    0.005383 -0.044642 -0.036385  0.021872  0.003935  0.015596  0.008142   \n",
       "..        ...       ...       ...       ...       ...       ...       ...   \n",
       "437  0.041708  0.050680  0.019662  0.059744 -0.005697 -0.002566 -0.028674   \n",
       "438 -0.005515  0.050680 -0.015906 -0.067642  0.049341  0.079165 -0.028674   \n",
       "439  0.041708  0.050680 -0.015906  0.017282 -0.037344 -0.013840 -0.024993   \n",
       "440 -0.045472 -0.044642  0.039062  0.001215  0.016318  0.015283 -0.028674   \n",
       "441 -0.045472 -0.044642 -0.073030 -0.081414  0.083740  0.027809  0.173816   \n",
       "\n",
       "          tch       ltg       glu  disease_progression  \n",
       "0   -0.002592  0.019908 -0.017646                151.0  \n",
       "1   -0.039493 -0.068330 -0.092204                 75.0  \n",
       "2   -0.002592  0.002864 -0.025930                141.0  \n",
       "3    0.034309  0.022692 -0.009362                206.0  \n",
       "4   -0.002592 -0.031991 -0.046641                135.0  \n",
       "..        ...       ...       ...                  ...  \n",
       "437 -0.002592  0.031193  0.007207                178.0  \n",
       "438  0.034309 -0.018118  0.044485                104.0  \n",
       "439 -0.011080 -0.046879  0.015491                132.0  \n",
       "440  0.026560  0.044528 -0.025930                220.0  \n",
       "441 -0.039493 -0.004220  0.003064                 57.0  \n",
       "\n",
       "[442 rows x 11 columns]"
      ]
     },
     "execution_count": 9,
     "metadata": {},
     "output_type": "execute_result"
    }
   ],
   "source": [
    "df = pd.merge(df1,df2, left_index=True, right_index=True)\n",
    "df"
   ]
  },
  {
   "cell_type": "code",
   "execution_count": 10,
   "metadata": {},
   "outputs": [
    {
     "data": {
      "text/html": [
       "<div>\n",
       "<style scoped>\n",
       "    .dataframe tbody tr th:only-of-type {\n",
       "        vertical-align: middle;\n",
       "    }\n",
       "\n",
       "    .dataframe tbody tr th {\n",
       "        vertical-align: top;\n",
       "    }\n",
       "\n",
       "    .dataframe thead th {\n",
       "        text-align: right;\n",
       "    }\n",
       "</style>\n",
       "<table border=\"1\" class=\"dataframe\">\n",
       "  <thead>\n",
       "    <tr style=\"text-align: right;\">\n",
       "      <th></th>\n",
       "      <th>age</th>\n",
       "      <th>sex</th>\n",
       "      <th>bmi</th>\n",
       "      <th>bp</th>\n",
       "      <th>tc</th>\n",
       "      <th>ldl</th>\n",
       "      <th>hdl</th>\n",
       "      <th>tch</th>\n",
       "      <th>ltg</th>\n",
       "      <th>glu</th>\n",
       "      <th>disease_progression</th>\n",
       "    </tr>\n",
       "  </thead>\n",
       "  <tbody>\n",
       "    <tr>\n",
       "      <th>count</th>\n",
       "      <td>4.420000e+02</td>\n",
       "      <td>4.420000e+02</td>\n",
       "      <td>4.420000e+02</td>\n",
       "      <td>4.420000e+02</td>\n",
       "      <td>4.420000e+02</td>\n",
       "      <td>4.420000e+02</td>\n",
       "      <td>4.420000e+02</td>\n",
       "      <td>4.420000e+02</td>\n",
       "      <td>4.420000e+02</td>\n",
       "      <td>4.420000e+02</td>\n",
       "      <td>442.000000</td>\n",
       "    </tr>\n",
       "    <tr>\n",
       "      <th>mean</th>\n",
       "      <td>-3.634285e-16</td>\n",
       "      <td>1.308343e-16</td>\n",
       "      <td>-8.045349e-16</td>\n",
       "      <td>1.281655e-16</td>\n",
       "      <td>-8.835316e-17</td>\n",
       "      <td>1.327024e-16</td>\n",
       "      <td>-4.574646e-16</td>\n",
       "      <td>3.777301e-16</td>\n",
       "      <td>-3.830854e-16</td>\n",
       "      <td>-3.412882e-16</td>\n",
       "      <td>152.133484</td>\n",
       "    </tr>\n",
       "    <tr>\n",
       "      <th>std</th>\n",
       "      <td>4.761905e-02</td>\n",
       "      <td>4.761905e-02</td>\n",
       "      <td>4.761905e-02</td>\n",
       "      <td>4.761905e-02</td>\n",
       "      <td>4.761905e-02</td>\n",
       "      <td>4.761905e-02</td>\n",
       "      <td>4.761905e-02</td>\n",
       "      <td>4.761905e-02</td>\n",
       "      <td>4.761905e-02</td>\n",
       "      <td>4.761905e-02</td>\n",
       "      <td>77.093005</td>\n",
       "    </tr>\n",
       "    <tr>\n",
       "      <th>min</th>\n",
       "      <td>-1.072256e-01</td>\n",
       "      <td>-4.464164e-02</td>\n",
       "      <td>-9.027530e-02</td>\n",
       "      <td>-1.123996e-01</td>\n",
       "      <td>-1.267807e-01</td>\n",
       "      <td>-1.156131e-01</td>\n",
       "      <td>-1.023071e-01</td>\n",
       "      <td>-7.639450e-02</td>\n",
       "      <td>-1.260974e-01</td>\n",
       "      <td>-1.377672e-01</td>\n",
       "      <td>25.000000</td>\n",
       "    </tr>\n",
       "    <tr>\n",
       "      <th>25%</th>\n",
       "      <td>-3.729927e-02</td>\n",
       "      <td>-4.464164e-02</td>\n",
       "      <td>-3.422907e-02</td>\n",
       "      <td>-3.665645e-02</td>\n",
       "      <td>-3.424784e-02</td>\n",
       "      <td>-3.035840e-02</td>\n",
       "      <td>-3.511716e-02</td>\n",
       "      <td>-3.949338e-02</td>\n",
       "      <td>-3.324879e-02</td>\n",
       "      <td>-3.317903e-02</td>\n",
       "      <td>87.000000</td>\n",
       "    </tr>\n",
       "    <tr>\n",
       "      <th>50%</th>\n",
       "      <td>5.383060e-03</td>\n",
       "      <td>-4.464164e-02</td>\n",
       "      <td>-7.283766e-03</td>\n",
       "      <td>-5.670611e-03</td>\n",
       "      <td>-4.320866e-03</td>\n",
       "      <td>-3.819065e-03</td>\n",
       "      <td>-6.584468e-03</td>\n",
       "      <td>-2.592262e-03</td>\n",
       "      <td>-1.947634e-03</td>\n",
       "      <td>-1.077698e-03</td>\n",
       "      <td>140.500000</td>\n",
       "    </tr>\n",
       "    <tr>\n",
       "      <th>75%</th>\n",
       "      <td>3.807591e-02</td>\n",
       "      <td>5.068012e-02</td>\n",
       "      <td>3.124802e-02</td>\n",
       "      <td>3.564384e-02</td>\n",
       "      <td>2.835801e-02</td>\n",
       "      <td>2.984439e-02</td>\n",
       "      <td>2.931150e-02</td>\n",
       "      <td>3.430886e-02</td>\n",
       "      <td>3.243323e-02</td>\n",
       "      <td>2.791705e-02</td>\n",
       "      <td>211.500000</td>\n",
       "    </tr>\n",
       "    <tr>\n",
       "      <th>max</th>\n",
       "      <td>1.107267e-01</td>\n",
       "      <td>5.068012e-02</td>\n",
       "      <td>1.705552e-01</td>\n",
       "      <td>1.320442e-01</td>\n",
       "      <td>1.539137e-01</td>\n",
       "      <td>1.987880e-01</td>\n",
       "      <td>1.811791e-01</td>\n",
       "      <td>1.852344e-01</td>\n",
       "      <td>1.335990e-01</td>\n",
       "      <td>1.356118e-01</td>\n",
       "      <td>346.000000</td>\n",
       "    </tr>\n",
       "  </tbody>\n",
       "</table>\n",
       "</div>"
      ],
      "text/plain": [
       "                age           sex           bmi            bp            tc  \\\n",
       "count  4.420000e+02  4.420000e+02  4.420000e+02  4.420000e+02  4.420000e+02   \n",
       "mean  -3.634285e-16  1.308343e-16 -8.045349e-16  1.281655e-16 -8.835316e-17   \n",
       "std    4.761905e-02  4.761905e-02  4.761905e-02  4.761905e-02  4.761905e-02   \n",
       "min   -1.072256e-01 -4.464164e-02 -9.027530e-02 -1.123996e-01 -1.267807e-01   \n",
       "25%   -3.729927e-02 -4.464164e-02 -3.422907e-02 -3.665645e-02 -3.424784e-02   \n",
       "50%    5.383060e-03 -4.464164e-02 -7.283766e-03 -5.670611e-03 -4.320866e-03   \n",
       "75%    3.807591e-02  5.068012e-02  3.124802e-02  3.564384e-02  2.835801e-02   \n",
       "max    1.107267e-01  5.068012e-02  1.705552e-01  1.320442e-01  1.539137e-01   \n",
       "\n",
       "                ldl           hdl           tch           ltg           glu  \\\n",
       "count  4.420000e+02  4.420000e+02  4.420000e+02  4.420000e+02  4.420000e+02   \n",
       "mean   1.327024e-16 -4.574646e-16  3.777301e-16 -3.830854e-16 -3.412882e-16   \n",
       "std    4.761905e-02  4.761905e-02  4.761905e-02  4.761905e-02  4.761905e-02   \n",
       "min   -1.156131e-01 -1.023071e-01 -7.639450e-02 -1.260974e-01 -1.377672e-01   \n",
       "25%   -3.035840e-02 -3.511716e-02 -3.949338e-02 -3.324879e-02 -3.317903e-02   \n",
       "50%   -3.819065e-03 -6.584468e-03 -2.592262e-03 -1.947634e-03 -1.077698e-03   \n",
       "75%    2.984439e-02  2.931150e-02  3.430886e-02  3.243323e-02  2.791705e-02   \n",
       "max    1.987880e-01  1.811791e-01  1.852344e-01  1.335990e-01  1.356118e-01   \n",
       "\n",
       "       disease_progression  \n",
       "count           442.000000  \n",
       "mean            152.133484  \n",
       "std              77.093005  \n",
       "min              25.000000  \n",
       "25%              87.000000  \n",
       "50%             140.500000  \n",
       "75%             211.500000  \n",
       "max             346.000000  "
      ]
     },
     "execution_count": 10,
     "metadata": {},
     "output_type": "execute_result"
    }
   ],
   "source": [
    "df.describe()"
   ]
  },
  {
   "cell_type": "code",
   "execution_count": 11,
   "metadata": {},
   "outputs": [
    {
     "data": {
      "image/png": "[encoded data removed]",
      "text/plain": [
       "<Figure size 864x648 with 2 Axes>"
      ]
     },
     "metadata": {
      "needs_background": "light"
     },
     "output_type": "display_data"
    }
   ],
   "source": [
    "import seaborn as sns\n",
    "corrmap=df.corr()\n",
    "f, ax = plt.subplots(figsize=(12,9))\n",
    "sns.heatmap(corrmap, vmax=.8, square=True);"
   ]
  },
  {
   "cell_type": "code",
   "execution_count": 12,
   "metadata": {},
   "outputs": [
    {
     "data": {
      "text/plain": [
       "<seaborn.axisgrid.FacetGrid at 0x15f4ba4b220>"
      ]
     },
     "execution_count": 12,
     "metadata": {},
     "output_type": "execute_result"
    },
    {
     "data": {
      "image/png": "[encoded data removed]",
      "text/plain": [
       "<Figure size 360x360 with 1 Axes>"
      ]
     },
     "metadata": {
      "needs_background": "light"
     },
     "output_type": "display_data"
    }
   ],
   "source": [
    "sns.displot(df['disease_progression'])"
   ]
  },
  {
   "cell_type": "code",
   "execution_count": 13,
   "metadata": {},
   "outputs": [
    {
     "data": {
      "text/html": [
       "<div>\n",
       "<style scoped>\n",
       "    .dataframe tbody tr th:only-of-type {\n",
       "        vertical-align: middle;\n",
       "    }\n",
       "\n",
       "    .dataframe tbody tr th {\n",
       "        vertical-align: top;\n",
       "    }\n",
       "\n",
       "    .dataframe thead th {\n",
       "        text-align: right;\n",
       "    }\n",
       "</style>\n",
       "<table border=\"1\" class=\"dataframe\">\n",
       "  <thead>\n",
       "    <tr style=\"text-align: right;\">\n",
       "      <th></th>\n",
       "      <th>age</th>\n",
       "      <th>sex</th>\n",
       "      <th>bmi</th>\n",
       "      <th>bp</th>\n",
       "      <th>tc</th>\n",
       "      <th>ldl</th>\n",
       "      <th>hdl</th>\n",
       "      <th>tch</th>\n",
       "      <th>ltg</th>\n",
       "      <th>glu</th>\n",
       "      <th>disease_progression</th>\n",
       "    </tr>\n",
       "  </thead>\n",
       "  <tbody>\n",
       "    <tr>\n",
       "      <th>0</th>\n",
       "      <td>0.038076</td>\n",
       "      <td>0.050680</td>\n",
       "      <td>0.061696</td>\n",
       "      <td>0.021872</td>\n",
       "      <td>-0.044223</td>\n",
       "      <td>-0.034821</td>\n",
       "      <td>-0.043401</td>\n",
       "      <td>-0.002592</td>\n",
       "      <td>0.019908</td>\n",
       "      <td>-0.017646</td>\n",
       "      <td>151.0</td>\n",
       "    </tr>\n",
       "    <tr>\n",
       "      <th>1</th>\n",
       "      <td>-0.001882</td>\n",
       "      <td>-0.044642</td>\n",
       "      <td>-0.051474</td>\n",
       "      <td>-0.026328</td>\n",
       "      <td>-0.008449</td>\n",
       "      <td>-0.019163</td>\n",
       "      <td>0.074412</td>\n",
       "      <td>-0.039493</td>\n",
       "      <td>-0.068330</td>\n",
       "      <td>-0.092204</td>\n",
       "      <td>75.0</td>\n",
       "    </tr>\n",
       "    <tr>\n",
       "      <th>2</th>\n",
       "      <td>0.085299</td>\n",
       "      <td>0.050680</td>\n",
       "      <td>0.044451</td>\n",
       "      <td>-0.005671</td>\n",
       "      <td>-0.045599</td>\n",
       "      <td>-0.034194</td>\n",
       "      <td>-0.032356</td>\n",
       "      <td>-0.002592</td>\n",
       "      <td>0.002864</td>\n",
       "      <td>-0.025930</td>\n",
       "      <td>141.0</td>\n",
       "    </tr>\n",
       "    <tr>\n",
       "      <th>3</th>\n",
       "      <td>-0.089063</td>\n",
       "      <td>-0.044642</td>\n",
       "      <td>-0.011595</td>\n",
       "      <td>-0.036656</td>\n",
       "      <td>0.012191</td>\n",
       "      <td>0.024991</td>\n",
       "      <td>-0.036038</td>\n",
       "      <td>0.034309</td>\n",
       "      <td>0.022692</td>\n",
       "      <td>-0.009362</td>\n",
       "      <td>206.0</td>\n",
       "    </tr>\n",
       "    <tr>\n",
       "      <th>4</th>\n",
       "      <td>0.005383</td>\n",
       "      <td>-0.044642</td>\n",
       "      <td>-0.036385</td>\n",
       "      <td>0.021872</td>\n",
       "      <td>0.003935</td>\n",
       "      <td>0.015596</td>\n",
       "      <td>0.008142</td>\n",
       "      <td>-0.002592</td>\n",
       "      <td>-0.031991</td>\n",
       "      <td>-0.046641</td>\n",
       "      <td>135.0</td>\n",
       "    </tr>\n",
       "    <tr>\n",
       "      <th>...</th>\n",
       "      <td>...</td>\n",
       "      <td>...</td>\n",
       "      <td>...</td>\n",
       "      <td>...</td>\n",
       "      <td>...</td>\n",
       "      <td>...</td>\n",
       "      <td>...</td>\n",
       "      <td>...</td>\n",
       "      <td>...</td>\n",
       "      <td>...</td>\n",
       "      <td>...</td>\n",
       "    </tr>\n",
       "    <tr>\n",
       "      <th>437</th>\n",
       "      <td>0.041708</td>\n",
       "      <td>0.050680</td>\n",
       "      <td>0.019662</td>\n",
       "      <td>0.059744</td>\n",
       "      <td>-0.005697</td>\n",
       "      <td>-0.002566</td>\n",
       "      <td>-0.028674</td>\n",
       "      <td>-0.002592</td>\n",
       "      <td>0.031193</td>\n",
       "      <td>0.007207</td>\n",
       "      <td>178.0</td>\n",
       "    </tr>\n",
       "    <tr>\n",
       "      <th>438</th>\n",
       "      <td>-0.005515</td>\n",
       "      <td>0.050680</td>\n",
       "      <td>-0.015906</td>\n",
       "      <td>-0.067642</td>\n",
       "      <td>0.049341</td>\n",
       "      <td>0.079165</td>\n",
       "      <td>-0.028674</td>\n",
       "      <td>0.034309</td>\n",
       "      <td>-0.018118</td>\n",
       "      <td>0.044485</td>\n",
       "      <td>104.0</td>\n",
       "    </tr>\n",
       "    <tr>\n",
       "      <th>439</th>\n",
       "      <td>0.041708</td>\n",
       "      <td>0.050680</td>\n",
       "      <td>-0.015906</td>\n",
       "      <td>0.017282</td>\n",
       "      <td>-0.037344</td>\n",
       "      <td>-0.013840</td>\n",
       "      <td>-0.024993</td>\n",
       "      <td>-0.011080</td>\n",
       "      <td>-0.046879</td>\n",
       "      <td>0.015491</td>\n",
       "      <td>132.0</td>\n",
       "    </tr>\n",
       "    <tr>\n",
       "      <th>440</th>\n",
       "      <td>-0.045472</td>\n",
       "      <td>-0.044642</td>\n",
       "      <td>0.039062</td>\n",
       "      <td>0.001215</td>\n",
       "      <td>0.016318</td>\n",
       "      <td>0.015283</td>\n",
       "      <td>-0.028674</td>\n",
       "      <td>0.026560</td>\n",
       "      <td>0.044528</td>\n",
       "      <td>-0.025930</td>\n",
       "      <td>220.0</td>\n",
       "    </tr>\n",
       "    <tr>\n",
       "      <th>441</th>\n",
       "      <td>-0.045472</td>\n",
       "      <td>-0.044642</td>\n",
       "      <td>-0.073030</td>\n",
       "      <td>-0.081414</td>\n",
       "      <td>0.083740</td>\n",
       "      <td>0.027809</td>\n",
       "      <td>0.173816</td>\n",
       "      <td>-0.039493</td>\n",
       "      <td>-0.004220</td>\n",
       "      <td>0.003064</td>\n",
       "      <td>57.0</td>\n",
       "    </tr>\n",
       "  </tbody>\n",
       "</table>\n",
       "<p>442 rows × 11 columns</p>\n",
       "</div>"
      ],
      "text/plain": [
       "          age       sex       bmi        bp        tc       ldl       hdl  \\\n",
       "0    0.038076  0.050680  0.061696  0.021872 -0.044223 -0.034821 -0.043401   \n",
       "1   -0.001882 -0.044642 -0.051474 -0.026328 -0.008449 -0.019163  0.074412   \n",
       "2    0.085299  0.050680  0.044451 -0.005671 -0.045599 -0.034194 -0.032356   \n",
       "3   -0.089063 -0.044642 -0.011595 -0.036656  0.012191  0.024991 -0.036038   \n",
       "4    0.005383 -0.044642 -0.036385  0.021872  0.003935  0.015596  0.008142   \n",
       "..        ...       ...       ...       ...       ...       ...       ...   \n",
       "437  0.041708  0.050680  0.019662  0.059744 -0.005697 -0.002566 -0.028674   \n",
       "438 -0.005515  0.050680 -0.015906 -0.067642  0.049341  0.079165 -0.028674   \n",
       "439  0.041708  0.050680 -0.015906  0.017282 -0.037344 -0.013840 -0.024993   \n",
       "440 -0.045472 -0.044642  0.039062  0.001215  0.016318  0.015283 -0.028674   \n",
       "441 -0.045472 -0.044642 -0.073030 -0.081414  0.083740  0.027809  0.173816   \n",
       "\n",
       "          tch       ltg       glu  disease_progression  \n",
       "0   -0.002592  0.019908 -0.017646                151.0  \n",
       "1   -0.039493 -0.068330 -0.092204                 75.0  \n",
       "2   -0.002592  0.002864 -0.025930                141.0  \n",
       "3    0.034309  0.022692 -0.009362                206.0  \n",
       "4   -0.002592 -0.031991 -0.046641                135.0  \n",
       "..        ...       ...       ...                  ...  \n",
       "437 -0.002592  0.031193  0.007207                178.0  \n",
       "438  0.034309 -0.018118  0.044485                104.0  \n",
       "439 -0.011080 -0.046879  0.015491                132.0  \n",
       "440  0.026560  0.044528 -0.025930                220.0  \n",
       "441 -0.039493 -0.004220  0.003064                 57.0  \n",
       "\n",
       "[442 rows x 11 columns]"
      ]
     },
     "execution_count": 13,
     "metadata": {},
     "output_type": "execute_result"
    }
   ],
   "source": [
    "df"
   ]
  },
  {
   "cell_type": "code",
   "execution_count": 14,
   "metadata": {},
   "outputs": [
    {
     "data": {
      "text/html": [
       "<div>\n",
       "<style scoped>\n",
       "    .dataframe tbody tr th:only-of-type {\n",
       "        vertical-align: middle;\n",
       "    }\n",
       "\n",
       "    .dataframe tbody tr th {\n",
       "        vertical-align: top;\n",
       "    }\n",
       "\n",
       "    .dataframe thead th {\n",
       "        text-align: right;\n",
       "    }\n",
       "</style>\n",
       "<table border=\"1\" class=\"dataframe\">\n",
       "  <thead>\n",
       "    <tr style=\"text-align: right;\">\n",
       "      <th></th>\n",
       "      <th>age</th>\n",
       "      <th>sex</th>\n",
       "      <th>bmi</th>\n",
       "      <th>bp</th>\n",
       "      <th>tc</th>\n",
       "      <th>ldl</th>\n",
       "      <th>hdl</th>\n",
       "      <th>tch</th>\n",
       "      <th>ltg</th>\n",
       "      <th>glu</th>\n",
       "      <th>disease_progression</th>\n",
       "    </tr>\n",
       "  </thead>\n",
       "  <tbody>\n",
       "    <tr>\n",
       "      <th>count</th>\n",
       "      <td>4.420000e+02</td>\n",
       "      <td>4.420000e+02</td>\n",
       "      <td>4.420000e+02</td>\n",
       "      <td>4.420000e+02</td>\n",
       "      <td>4.420000e+02</td>\n",
       "      <td>4.420000e+02</td>\n",
       "      <td>4.420000e+02</td>\n",
       "      <td>4.420000e+02</td>\n",
       "      <td>4.420000e+02</td>\n",
       "      <td>4.420000e+02</td>\n",
       "      <td>442.000000</td>\n",
       "    </tr>\n",
       "    <tr>\n",
       "      <th>mean</th>\n",
       "      <td>-3.280684e-15</td>\n",
       "      <td>2.663531e-15</td>\n",
       "      <td>-4.697223e-15</td>\n",
       "      <td>9.667983e-16</td>\n",
       "      <td>-5.857557e-16</td>\n",
       "      <td>6.607962e-16</td>\n",
       "      <td>-2.530404e-15</td>\n",
       "      <td>2.071056e-15</td>\n",
       "      <td>-2.850598e-15</td>\n",
       "      <td>-2.509988e-15</td>\n",
       "      <td>152.133484</td>\n",
       "    </tr>\n",
       "    <tr>\n",
       "      <th>std</th>\n",
       "      <td>4.300594e-01</td>\n",
       "      <td>9.396002e-01</td>\n",
       "      <td>2.792002e-01</td>\n",
       "      <td>3.606296e-01</td>\n",
       "      <td>3.093879e-01</td>\n",
       "      <td>2.395469e-01</td>\n",
       "      <td>2.628286e-01</td>\n",
       "      <td>2.570745e-01</td>\n",
       "      <td>3.564327e-01</td>\n",
       "      <td>3.511423e-01</td>\n",
       "      <td>77.093005</td>\n",
       "    </tr>\n",
       "    <tr>\n",
       "      <th>min</th>\n",
       "      <td>-9.683812e-01</td>\n",
       "      <td>-8.808511e-01</td>\n",
       "      <td>-5.293024e-01</td>\n",
       "      <td>-8.512270e-01</td>\n",
       "      <td>-8.237126e-01</td>\n",
       "      <td>-5.815898e-01</td>\n",
       "      <td>-5.646737e-01</td>\n",
       "      <td>-4.124206e-01</td>\n",
       "      <td>-9.438499e-01</td>\n",
       "      <td>-1.015894e+00</td>\n",
       "      <td>25.000000</td>\n",
       "    </tr>\n",
       "    <tr>\n",
       "      <th>25%</th>\n",
       "      <td>-3.368589e-01</td>\n",
       "      <td>-8.808511e-01</td>\n",
       "      <td>-2.006920e-01</td>\n",
       "      <td>-2.776074e-01</td>\n",
       "      <td>-2.225132e-01</td>\n",
       "      <td>-1.527175e-01</td>\n",
       "      <td>-1.938257e-01</td>\n",
       "      <td>-2.132076e-01</td>\n",
       "      <td>-2.488701e-01</td>\n",
       "      <td>-2.446617e-01</td>\n",
       "      <td>87.000000</td>\n",
       "    </tr>\n",
       "    <tr>\n",
       "      <th>50%</th>\n",
       "      <td>4.861575e-02</td>\n",
       "      <td>-8.808511e-01</td>\n",
       "      <td>-4.270620e-02</td>\n",
       "      <td>-4.294479e-02</td>\n",
       "      <td>-2.807330e-02</td>\n",
       "      <td>-1.921175e-02</td>\n",
       "      <td>-3.634232e-02</td>\n",
       "      <td>-1.399449e-02</td>\n",
       "      <td>-1.457821e-02</td>\n",
       "      <td>-7.946928e-03</td>\n",
       "      <td>140.500000</td>\n",
       "    </tr>\n",
       "    <tr>\n",
       "      <th>75%</th>\n",
       "      <td>3.438729e-01</td>\n",
       "      <td>1.000000e+00</td>\n",
       "      <td>1.832135e-01</td>\n",
       "      <td>2.699387e-01</td>\n",
       "      <td>1.842462e-01</td>\n",
       "      <td>1.501318e-01</td>\n",
       "      <td>1.617819e-01</td>\n",
       "      <td>1.852186e-01</td>\n",
       "      <td>2.427655e-01</td>\n",
       "      <td>2.058600e-01</td>\n",
       "      <td>211.500000</td>\n",
       "    </tr>\n",
       "    <tr>\n",
       "      <th>max</th>\n",
       "      <td>1.000000e+00</td>\n",
       "      <td>1.000000e+00</td>\n",
       "      <td>1.000000e+00</td>\n",
       "      <td>1.000000e+00</td>\n",
       "      <td>1.000000e+00</td>\n",
       "      <td>1.000000e+00</td>\n",
       "      <td>1.000000e+00</td>\n",
       "      <td>1.000000e+00</td>\n",
       "      <td>1.000000e+00</td>\n",
       "      <td>1.000000e+00</td>\n",
       "      <td>346.000000</td>\n",
       "    </tr>\n",
       "  </tbody>\n",
       "</table>\n",
       "</div>"
      ],
      "text/plain": [
       "                age           sex           bmi            bp            tc  \\\n",
       "count  4.420000e+02  4.420000e+02  4.420000e+02  4.420000e+02  4.420000e+02   \n",
       "mean  -3.280684e-15  2.663531e-15 -4.697223e-15  9.667983e-16 -5.857557e-16   \n",
       "std    4.300594e-01  9.396002e-01  2.792002e-01  3.606296e-01  3.093879e-01   \n",
       "min   -9.683812e-01 -8.808511e-01 -5.293024e-01 -8.512270e-01 -8.237126e-01   \n",
       "25%   -3.368589e-01 -8.808511e-01 -2.006920e-01 -2.776074e-01 -2.225132e-01   \n",
       "50%    4.861575e-02 -8.808511e-01 -4.270620e-02 -4.294479e-02 -2.807330e-02   \n",
       "75%    3.438729e-01  1.000000e+00  1.832135e-01  2.699387e-01  1.842462e-01   \n",
       "max    1.000000e+00  1.000000e+00  1.000000e+00  1.000000e+00  1.000000e+00   \n",
       "\n",
       "                ldl           hdl           tch           ltg           glu  \\\n",
       "count  4.420000e+02  4.420000e+02  4.420000e+02  4.420000e+02  4.420000e+02   \n",
       "mean   6.607962e-16 -2.530404e-15  2.071056e-15 -2.850598e-15 -2.509988e-15   \n",
       "std    2.395469e-01  2.628286e-01  2.570745e-01  3.564327e-01  3.511423e-01   \n",
       "min   -5.815898e-01 -5.646737e-01 -4.124206e-01 -9.438499e-01 -1.015894e+00   \n",
       "25%   -1.527175e-01 -1.938257e-01 -2.132076e-01 -2.488701e-01 -2.446617e-01   \n",
       "50%   -1.921175e-02 -3.634232e-02 -1.399449e-02 -1.457821e-02 -7.946928e-03   \n",
       "75%    1.501318e-01  1.617819e-01  1.852186e-01  2.427655e-01  2.058600e-01   \n",
       "max    1.000000e+00  1.000000e+00  1.000000e+00  1.000000e+00  1.000000e+00   \n",
       "\n",
       "       disease_progression  \n",
       "count           442.000000  \n",
       "mean            152.133484  \n",
       "std              77.093005  \n",
       "min              25.000000  \n",
       "25%              87.000000  \n",
       "50%             140.500000  \n",
       "75%             211.500000  \n",
       "max             346.000000  "
      ]
     },
     "execution_count": 14,
     "metadata": {},
     "output_type": "execute_result"
    }
   ],
   "source": [
    "target_column = ['disease_progression'] \n",
    "predictors = list(set(list(df.columns))-set(target_column))\n",
    "df[predictors] = df[predictors]/df[predictors].max()\n",
    "df.describe()"
   ]
  },
  {
   "cell_type": "code",
   "execution_count": 15,
   "metadata": {},
   "outputs": [
    {
     "name": "stdout",
     "output_type": "stream",
     "text": [
      "(309, 10)\n",
      "(133, 10)\n"
     ]
    }
   ],
   "source": [
    "X = df[predictors].values\n",
    "y = df[target_column].values\n",
    "\n",
    "X_train, X_test, y_train, y_test = train_test_split(X, y, test_size=0.30, random_state=40)\n",
    "print(X_train.shape); print(X_test.shape)"
   ]
  },
  {
   "cell_type": "code",
   "execution_count": null,
   "metadata": {},
   "outputs": [],
   "source": []
  },
  {
   "cell_type": "markdown",
   "metadata": {
    "colab_type": "text",
    "id": "o4dJViJD1Kd0"
   },
   "source": [
    "### Create the model's architecture"
   ]
  },
  {
   "cell_type": "code",
   "execution_count": 16,
   "metadata": {
    "colab": {},
    "colab_type": "code",
    "id": "Tkgf_BLl1Kd1"
   },
   "outputs": [],
   "source": [
    "# insert code here\n",
    "# Define model\n",
    "model = Sequential()\n",
    "model.add(Dense(500, input_dim=10, activation= \"relu\"))\n",
    "model.add(Dense(100, activation= \"relu\"))\n",
    "model.add(Dense(50, activation= \"relu\"))\n",
    "model.add(Dense(1))\n"
   ]
  },
  {
   "cell_type": "code",
   "execution_count": 17,
   "metadata": {},
   "outputs": [
    {
     "name": "stdout",
     "output_type": "stream",
     "text": [
      "Model: \"sequential\"\n",
      "_________________________________________________________________\n",
      "Layer (type)                 Output Shape              Param #   \n",
      "=================================================================\n",
      "dense (Dense)                (None, 500)               5500      \n",
      "_________________________________________________________________\n",
      "dense_1 (Dense)              (None, 100)               50100     \n",
      "_________________________________________________________________\n",
      "dense_2 (Dense)              (None, 50)                5050      \n",
      "_________________________________________________________________\n",
      "dense_3 (Dense)              (None, 1)                 51        \n",
      "=================================================================\n",
      "Total params: 60,701\n",
      "Trainable params: 60,701\n",
      "Non-trainable params: 0\n",
      "_________________________________________________________________\n"
     ]
    }
   ],
   "source": [
    "model.summary() #Print model Summary"
   ]
  },
  {
   "cell_type": "markdown",
   "metadata": {
    "colab_type": "text",
    "id": "5hQTS42V1Kd4"
   },
   "source": [
    "### Compile the model"
   ]
  },
  {
   "cell_type": "code",
   "execution_count": 18,
   "metadata": {
    "colab": {},
    "colab_type": "code",
    "id": "BvLsoanF1Kd5"
   },
   "outputs": [],
   "source": [
    "# insert code here\n",
    "model.compile(\n",
    "    loss= \"mean_squared_error\" , \n",
    "    optimizer=\"adam\", \n",
    "    metrics=[\"mean_absolute_error\"])\n"
   ]
  },
  {
   "cell_type": "markdown",
   "metadata": {
    "colab_type": "text",
    "id": "6KPQbnEj1Kd7"
   },
   "source": [
    "### Fit the training data"
   ]
  },
  {
   "cell_type": "code",
   "execution_count": 19,
   "metadata": {
    "colab": {},
    "colab_type": "code",
    "id": "-oiuHjEj1Kd8"
   },
   "outputs": [
    {
     "name": "stdout",
     "output_type": "stream",
     "text": [
      "Epoch 1/100\n",
      "12/12 [==============================] - 9s 37ms/step - loss: 29952.6206 - mean_absolute_error: 154.1338 - val_loss: 24086.0449 - val_mean_absolute_error: 137.8057\n",
      "Epoch 2/100\n",
      "12/12 [==============================] - 0s 3ms/step - loss: 28318.4512 - mean_absolute_error: 148.2665 - val_loss: 22599.8652 - val_mean_absolute_error: 132.4835\n",
      "Epoch 3/100\n",
      "12/12 [==============================] - 0s 2ms/step - loss: 25514.5802 - mean_absolute_error: 141.0752 - val_loss: 18768.6621 - val_mean_absolute_error: 118.0632\n",
      "Epoch 4/100\n",
      "12/12 [==============================] - 0s 3ms/step - loss: 21665.2222 - mean_absolute_error: 124.6008 - val_loss: 11456.9678 - val_mean_absolute_error: 86.2820\n",
      "Epoch 5/100\n",
      "12/12 [==============================] - 0s 2ms/step - loss: 9286.6294 - mean_absolute_error: 74.6050 - val_loss: 4046.4448 - val_mean_absolute_error: 51.1890\n",
      "Epoch 6/100\n",
      "12/12 [==============================] - 0s 2ms/step - loss: 4178.1730 - mean_absolute_error: 51.8758 - val_loss: 3402.1814 - val_mean_absolute_error: 48.9909\n",
      "Epoch 7/100\n",
      "12/12 [==============================] - 0s 2ms/step - loss: 3454.6033 - mean_absolute_error: 49.7463 - val_loss: 2787.6636 - val_mean_absolute_error: 44.1512\n",
      "Epoch 8/100\n",
      "12/12 [==============================] - 0s 3ms/step - loss: 3182.6107 - mean_absolute_error: 46.6629 - val_loss: 2646.3208 - val_mean_absolute_error: 42.8991\n",
      "Epoch 9/100\n",
      "12/12 [==============================] - 0s 2ms/step - loss: 3085.6512 - mean_absolute_error: 44.5659 - val_loss: 2514.4778 - val_mean_absolute_error: 41.6242\n",
      "Epoch 10/100\n",
      "12/12 [==============================] - 0s 3ms/step - loss: 2476.0731 - mean_absolute_error: 40.1183 - val_loss: 2444.8809 - val_mean_absolute_error: 40.9318\n",
      "Epoch 11/100\n",
      "12/12 [==============================] - 0s 2ms/step - loss: 2741.9469 - mean_absolute_error: 42.0462 - val_loss: 2435.9243 - val_mean_absolute_error: 40.8314\n",
      "Epoch 12/100\n",
      "12/12 [==============================] - 0s 3ms/step - loss: 2586.9614 - mean_absolute_error: 41.3347 - val_loss: 2413.3115 - val_mean_absolute_error: 40.5309\n",
      "Epoch 13/100\n",
      "12/12 [==============================] - 0s 3ms/step - loss: 2636.9548 - mean_absolute_error: 41.3841 - val_loss: 2423.9893 - val_mean_absolute_error: 40.5897\n",
      "Epoch 14/100\n",
      "12/12 [==============================] - 0s 3ms/step - loss: 2611.2530 - mean_absolute_error: 41.1843 - val_loss: 2408.1587 - val_mean_absolute_error: 40.4898\n",
      "Epoch 15/100\n",
      "12/12 [==============================] - 0s 3ms/step - loss: 2669.9658 - mean_absolute_error: 41.5180 - val_loss: 2373.4871 - val_mean_absolute_error: 40.1185\n",
      "Epoch 16/100\n",
      "12/12 [==============================] - 0s 3ms/step - loss: 2547.1579 - mean_absolute_error: 39.5421 - val_loss: 2350.1755 - val_mean_absolute_error: 39.8573\n",
      "Epoch 17/100\n",
      "12/12 [==============================] - 0s 3ms/step - loss: 2778.2593 - mean_absolute_error: 42.3035 - val_loss: 2372.7495 - val_mean_absolute_error: 40.1192\n",
      "Epoch 18/100\n",
      "12/12 [==============================] - 0s 3ms/step - loss: 2299.8812 - mean_absolute_error: 38.7304 - val_loss: 2343.9170 - val_mean_absolute_error: 39.7360\n",
      "Epoch 19/100\n",
      "12/12 [==============================] - 0s 3ms/step - loss: 2278.1690 - mean_absolute_error: 37.6662 - val_loss: 2360.4358 - val_mean_absolute_error: 39.9961\n",
      "Epoch 20/100\n",
      "12/12 [==============================] - 0s 3ms/step - loss: 2238.1899 - mean_absolute_error: 38.0734 - val_loss: 2346.1379 - val_mean_absolute_error: 39.8515\n",
      "Epoch 21/100\n",
      "12/12 [==============================] - 0s 3ms/step - loss: 2452.4763 - mean_absolute_error: 39.3348 - val_loss: 2363.5337 - val_mean_absolute_error: 39.9569\n",
      "Epoch 22/100\n",
      "12/12 [==============================] - 0s 3ms/step - loss: 2534.7373 - mean_absolute_error: 39.6162 - val_loss: 2348.6350 - val_mean_absolute_error: 39.8011\n",
      "Epoch 23/100\n",
      "12/12 [==============================] - 0s 3ms/step - loss: 2612.9900 - mean_absolute_error: 41.0838 - val_loss: 2365.2439 - val_mean_absolute_error: 39.9595\n",
      "Epoch 24/100\n",
      "12/12 [==============================] - 0s 3ms/step - loss: 2812.0797 - mean_absolute_error: 42.8299 - val_loss: 2354.7568 - val_mean_absolute_error: 39.7909\n",
      "Epoch 25/100\n",
      "12/12 [==============================] - 0s 3ms/step - loss: 2511.4874 - mean_absolute_error: 39.3891 - val_loss: 2376.2908 - val_mean_absolute_error: 40.0229\n",
      "Epoch 26/100\n",
      "12/12 [==============================] - 0s 3ms/step - loss: 2218.4058 - mean_absolute_error: 38.9189 - val_loss: 2376.6917 - val_mean_absolute_error: 39.8474\n",
      "Epoch 27/100\n",
      "12/12 [==============================] - 0s 3ms/step - loss: 2455.9817 - mean_absolute_error: 39.6973 - val_loss: 2354.8062 - val_mean_absolute_error: 39.7107\n",
      "Epoch 28/100\n",
      "12/12 [==============================] - 0s 3ms/step - loss: 2607.3360 - mean_absolute_error: 41.5554 - val_loss: 2351.1169 - val_mean_absolute_error: 39.6088\n",
      "Epoch 29/100\n",
      "12/12 [==============================] - 0s 2ms/step - loss: 2406.6933 - mean_absolute_error: 39.3530 - val_loss: 2360.1658 - val_mean_absolute_error: 39.6139\n",
      "Epoch 30/100\n",
      "12/12 [==============================] - 0s 2ms/step - loss: 2202.6077 - mean_absolute_error: 37.4352 - val_loss: 2355.6655 - val_mean_absolute_error: 39.6140\n",
      "Epoch 31/100\n",
      "12/12 [==============================] - 0s 2ms/step - loss: 2274.6192 - mean_absolute_error: 37.3389 - val_loss: 2340.3286 - val_mean_absolute_error: 39.4798\n",
      "Epoch 32/100\n",
      "12/12 [==============================] - 0s 3ms/step - loss: 2072.4585 - mean_absolute_error: 36.1738 - val_loss: 2376.9485 - val_mean_absolute_error: 39.7500\n",
      "Epoch 33/100\n",
      "12/12 [==============================] - 0s 3ms/step - loss: 2400.3951 - mean_absolute_error: 39.7198 - val_loss: 2358.6951 - val_mean_absolute_error: 39.5696\n",
      "Epoch 34/100\n",
      "12/12 [==============================] - 0s 3ms/step - loss: 2387.2447 - mean_absolute_error: 39.0925 - val_loss: 2342.4263 - val_mean_absolute_error: 39.2733\n",
      "Epoch 35/100\n",
      "12/12 [==============================] - 0s 2ms/step - loss: 2479.5546 - mean_absolute_error: 40.0169 - val_loss: 2358.9150 - val_mean_absolute_error: 39.4922\n",
      "Epoch 36/100\n",
      "12/12 [==============================] - 0s 3ms/step - loss: 2303.0256 - mean_absolute_error: 37.8554 - val_loss: 2399.4448 - val_mean_absolute_error: 39.8022\n",
      "Epoch 37/100\n",
      "12/12 [==============================] - 0s 3ms/step - loss: 2278.9599 - mean_absolute_error: 38.5180 - val_loss: 2389.7725 - val_mean_absolute_error: 39.6583\n",
      "Epoch 38/100\n",
      "12/12 [==============================] - 0s 3ms/step - loss: 2239.6522 - mean_absolute_error: 38.1266 - val_loss: 2353.7517 - val_mean_absolute_error: 39.3912\n",
      "Epoch 39/100\n",
      "12/12 [==============================] - 0s 3ms/step - loss: 2199.2939 - mean_absolute_error: 37.0626 - val_loss: 2346.6096 - val_mean_absolute_error: 39.2792\n",
      "Epoch 40/100\n",
      "12/12 [==============================] - 0s 2ms/step - loss: 2141.3680 - mean_absolute_error: 36.8855 - val_loss: 2396.5566 - val_mean_absolute_error: 39.6916\n",
      "Epoch 41/100\n",
      "12/12 [==============================] - 0s 2ms/step - loss: 2144.1386 - mean_absolute_error: 36.3416 - val_loss: 2441.3481 - val_mean_absolute_error: 40.1355\n",
      "Epoch 42/100\n",
      "12/12 [==============================] - 0s 3ms/step - loss: 2173.3082 - mean_absolute_error: 37.3332 - val_loss: 2400.9639 - val_mean_absolute_error: 39.6592\n",
      "Epoch 43/100\n",
      "12/12 [==============================] - 0s 2ms/step - loss: 2319.0636 - mean_absolute_error: 39.0393 - val_loss: 2403.2761 - val_mean_absolute_error: 39.7762\n",
      "Epoch 44/100\n",
      "12/12 [==============================] - 0s 2ms/step - loss: 2017.1668 - mean_absolute_error: 35.9663 - val_loss: 2388.3567 - val_mean_absolute_error: 39.6191\n",
      "Epoch 45/100\n",
      "12/12 [==============================] - 0s 2ms/step - loss: 2304.2767 - mean_absolute_error: 37.9818 - val_loss: 2397.8350 - val_mean_absolute_error: 39.6312\n",
      "Epoch 46/100\n",
      "12/12 [==============================] - 0s 2ms/step - loss: 2400.6012 - mean_absolute_error: 38.1159 - val_loss: 2378.4800 - val_mean_absolute_error: 39.4413\n",
      "Epoch 47/100\n",
      "12/12 [==============================] - 0s 2ms/step - loss: 2471.5504 - mean_absolute_error: 39.1603 - val_loss: 2415.3240 - val_mean_absolute_error: 39.8167\n",
      "Epoch 48/100\n",
      "12/12 [==============================] - 0s 2ms/step - loss: 2434.8511 - mean_absolute_error: 39.2116 - val_loss: 2369.3140 - val_mean_absolute_error: 39.2515\n",
      "Epoch 49/100\n",
      "12/12 [==============================] - 0s 3ms/step - loss: 2106.8056 - mean_absolute_error: 35.9193 - val_loss: 2376.8254 - val_mean_absolute_error: 39.3848\n",
      "Epoch 50/100\n",
      "12/12 [==============================] - 0s 3ms/step - loss: 1998.3884 - mean_absolute_error: 35.8345 - val_loss: 2405.9646 - val_mean_absolute_error: 39.7166\n",
      "Epoch 51/100\n",
      "12/12 [==============================] - 0s 2ms/step - loss: 2323.6200 - mean_absolute_error: 38.8693 - val_loss: 2369.3394 - val_mean_absolute_error: 39.2427\n",
      "Epoch 52/100\n",
      "12/12 [==============================] - 0s 3ms/step - loss: 2133.0208 - mean_absolute_error: 35.9946 - val_loss: 2373.5508 - val_mean_absolute_error: 39.3532\n",
      "Epoch 53/100\n",
      "12/12 [==============================] - 0s 2ms/step - loss: 2192.4214 - mean_absolute_error: 37.6445 - val_loss: 2386.7744 - val_mean_absolute_error: 39.3442\n",
      "Epoch 54/100\n",
      "12/12 [==============================] - 0s 2ms/step - loss: 2392.0011 - mean_absolute_error: 38.1600 - val_loss: 2440.8086 - val_mean_absolute_error: 39.8534\n",
      "Epoch 55/100\n",
      "12/12 [==============================] - 0s 3ms/step - loss: 2271.2566 - mean_absolute_error: 38.1723 - val_loss: 2389.0933 - val_mean_absolute_error: 39.3317\n",
      "Epoch 56/100\n",
      "12/12 [==============================] - 0s 3ms/step - loss: 2216.3901 - mean_absolute_error: 37.9570 - val_loss: 2397.3833 - val_mean_absolute_error: 39.3676\n",
      "Epoch 57/100\n",
      "12/12 [==============================] - 0s 3ms/step - loss: 2220.4341 - mean_absolute_error: 37.2929 - val_loss: 2396.5510 - val_mean_absolute_error: 39.5492\n",
      "Epoch 58/100\n",
      "12/12 [==============================] - 0s 3ms/step - loss: 2306.5842 - mean_absolute_error: 38.5351 - val_loss: 2430.2998 - val_mean_absolute_error: 39.6102\n",
      "Epoch 59/100\n",
      "12/12 [==============================] - 0s 3ms/step - loss: 2289.5097 - mean_absolute_error: 38.0199 - val_loss: 2395.9558 - val_mean_absolute_error: 39.3845\n",
      "Epoch 60/100\n",
      "12/12 [==============================] - 0s 2ms/step - loss: 2573.8042 - mean_absolute_error: 40.4061 - val_loss: 2383.7439 - val_mean_absolute_error: 39.3325\n",
      "Epoch 61/100\n",
      "12/12 [==============================] - 0s 3ms/step - loss: 2134.7640 - mean_absolute_error: 36.9390 - val_loss: 2460.2805 - val_mean_absolute_error: 39.7422\n",
      "Epoch 62/100\n",
      "12/12 [==============================] - 0s 3ms/step - loss: 2180.6755 - mean_absolute_error: 37.2405 - val_loss: 2420.2556 - val_mean_absolute_error: 39.7359\n",
      "Epoch 63/100\n",
      "12/12 [==============================] - 0s 2ms/step - loss: 1916.0834 - mean_absolute_error: 34.3097 - val_loss: 2413.6938 - val_mean_absolute_error: 39.4019\n",
      "Epoch 64/100\n",
      "12/12 [==============================] - 0s 3ms/step - loss: 2512.0225 - mean_absolute_error: 39.7796 - val_loss: 2420.2266 - val_mean_absolute_error: 39.6636\n",
      "Epoch 65/100\n",
      "12/12 [==============================] - 0s 2ms/step - loss: 2353.0199 - mean_absolute_error: 38.3506 - val_loss: 2447.0356 - val_mean_absolute_error: 39.6451\n",
      "Epoch 66/100\n",
      "12/12 [==============================] - 0s 3ms/step - loss: 1965.9600 - mean_absolute_error: 35.0807 - val_loss: 2415.1057 - val_mean_absolute_error: 39.7058\n",
      "Epoch 67/100\n",
      "12/12 [==============================] - 0s 2ms/step - loss: 1977.3660 - mean_absolute_error: 34.9504 - val_loss: 2410.6436 - val_mean_absolute_error: 39.1836\n",
      "Epoch 68/100\n",
      "12/12 [==============================] - 0s 2ms/step - loss: 2127.3911 - mean_absolute_error: 36.3698 - val_loss: 2411.4651 - val_mean_absolute_error: 39.2906\n",
      "Epoch 69/100\n",
      "12/12 [==============================] - 0s 2ms/step - loss: 2221.7170 - mean_absolute_error: 37.1959 - val_loss: 2410.1677 - val_mean_absolute_error: 39.2486\n",
      "Epoch 70/100\n",
      "12/12 [==============================] - 0s 2ms/step - loss: 2222.5226 - mean_absolute_error: 37.7805 - val_loss: 2430.1487 - val_mean_absolute_error: 39.7407\n",
      "Epoch 71/100\n",
      "12/12 [==============================] - 0s 2ms/step - loss: 2048.3655 - mean_absolute_error: 36.4115 - val_loss: 2470.3169 - val_mean_absolute_error: 39.6131\n",
      "Epoch 72/100\n",
      "12/12 [==============================] - 0s 3ms/step - loss: 1903.5010 - mean_absolute_error: 34.0924 - val_loss: 2430.8889 - val_mean_absolute_error: 39.6739\n",
      "Epoch 73/100\n",
      "12/12 [==============================] - 0s 2ms/step - loss: 2355.2268 - mean_absolute_error: 39.2743 - val_loss: 2387.9351 - val_mean_absolute_error: 38.9836\n",
      "Epoch 74/100\n",
      "12/12 [==============================] - 0s 2ms/step - loss: 2032.5904 - mean_absolute_error: 35.7214 - val_loss: 2419.1077 - val_mean_absolute_error: 39.3893\n",
      "Epoch 75/100\n",
      "12/12 [==============================] - 0s 2ms/step - loss: 2197.1720 - mean_absolute_error: 37.8938 - val_loss: 2421.1958 - val_mean_absolute_error: 39.2594\n",
      "Epoch 76/100\n",
      "12/12 [==============================] - 0s 2ms/step - loss: 1885.3054 - mean_absolute_error: 33.4918 - val_loss: 2402.4917 - val_mean_absolute_error: 39.1329\n",
      "Epoch 77/100\n",
      "12/12 [==============================] - 0s 3ms/step - loss: 2007.6440 - mean_absolute_error: 36.1197 - val_loss: 2439.4941 - val_mean_absolute_error: 39.5439\n",
      "Epoch 78/100\n",
      "12/12 [==============================] - 0s 3ms/step - loss: 1799.8588 - mean_absolute_error: 33.7932 - val_loss: 2408.5696 - val_mean_absolute_error: 39.3727\n",
      "Epoch 79/100\n",
      "12/12 [==============================] - 0s 2ms/step - loss: 1973.3374 - mean_absolute_error: 35.1505 - val_loss: 2439.2859 - val_mean_absolute_error: 39.2886\n",
      "Epoch 80/100\n",
      "12/12 [==============================] - 0s 3ms/step - loss: 2029.3176 - mean_absolute_error: 35.0335 - val_loss: 2437.0676 - val_mean_absolute_error: 39.7362\n",
      "Epoch 81/100\n",
      "12/12 [==============================] - 0s 3ms/step - loss: 2143.2359 - mean_absolute_error: 37.3525 - val_loss: 2434.1233 - val_mean_absolute_error: 39.3319\n",
      "Epoch 82/100\n",
      "12/12 [==============================] - 0s 2ms/step - loss: 2058.7390 - mean_absolute_error: 35.0584 - val_loss: 2439.7056 - val_mean_absolute_error: 39.2489\n",
      "Epoch 83/100\n",
      "12/12 [==============================] - 0s 3ms/step - loss: 1969.0751 - mean_absolute_error: 35.0267 - val_loss: 2498.2981 - val_mean_absolute_error: 39.9905\n",
      "Epoch 84/100\n",
      "12/12 [==============================] - 0s 2ms/step - loss: 1972.6064 - mean_absolute_error: 34.8135 - val_loss: 2434.8643 - val_mean_absolute_error: 39.1547\n",
      "Epoch 85/100\n",
      "12/12 [==============================] - 0s 2ms/step - loss: 2006.4454 - mean_absolute_error: 35.8873 - val_loss: 2448.0186 - val_mean_absolute_error: 39.4534\n",
      "Epoch 86/100\n",
      "12/12 [==============================] - 0s 3ms/step - loss: 2090.3671 - mean_absolute_error: 36.0718 - val_loss: 2457.0591 - val_mean_absolute_error: 39.5256\n",
      "Epoch 87/100\n",
      "12/12 [==============================] - 0s 3ms/step - loss: 2060.0947 - mean_absolute_error: 36.0493 - val_loss: 2480.8804 - val_mean_absolute_error: 39.5366\n",
      "Epoch 88/100\n",
      "12/12 [==============================] - 0s 2ms/step - loss: 2348.1617 - mean_absolute_error: 38.9680 - val_loss: 2463.3655 - val_mean_absolute_error: 39.7911\n",
      "Epoch 89/100\n",
      "12/12 [==============================] - 0s 2ms/step - loss: 2084.3610 - mean_absolute_error: 35.8336 - val_loss: 2450.5073 - val_mean_absolute_error: 39.2238\n",
      "Epoch 90/100\n",
      "12/12 [==============================] - 0s 2ms/step - loss: 2038.9508 - mean_absolute_error: 35.1358 - val_loss: 2429.3047 - val_mean_absolute_error: 39.3297\n",
      "Epoch 91/100\n",
      "12/12 [==============================] - 0s 2ms/step - loss: 1886.4207 - mean_absolute_error: 33.6022 - val_loss: 2451.8677 - val_mean_absolute_error: 39.2030\n",
      "Epoch 92/100\n",
      "12/12 [==============================] - 0s 2ms/step - loss: 1808.7957 - mean_absolute_error: 33.0774 - val_loss: 2463.2395 - val_mean_absolute_error: 39.5134\n",
      "Epoch 93/100\n",
      "12/12 [==============================] - 0s 2ms/step - loss: 2092.1021 - mean_absolute_error: 36.4556 - val_loss: 2423.7478 - val_mean_absolute_error: 39.1943\n",
      "Epoch 94/100\n",
      "12/12 [==============================] - 0s 3ms/step - loss: 1997.7943 - mean_absolute_error: 34.3563 - val_loss: 2437.3755 - val_mean_absolute_error: 39.2416\n",
      "Epoch 95/100\n",
      "12/12 [==============================] - 0s 2ms/step - loss: 1943.6008 - mean_absolute_error: 35.5246 - val_loss: 2437.3525 - val_mean_absolute_error: 39.2257\n"
     ]
    },
    {
     "name": "stdout",
     "output_type": "stream",
     "text": [
      "Epoch 96/100\n",
      "12/12 [==============================] - 0s 2ms/step - loss: 1826.1344 - mean_absolute_error: 33.2937 - val_loss: 2439.9749 - val_mean_absolute_error: 39.0547\n",
      "Epoch 97/100\n",
      "12/12 [==============================] - 0s 3ms/step - loss: 2095.2849 - mean_absolute_error: 36.1528 - val_loss: 2443.0205 - val_mean_absolute_error: 39.3906\n",
      "Epoch 98/100\n",
      "12/12 [==============================] - 0s 3ms/step - loss: 1999.9620 - mean_absolute_error: 34.5148 - val_loss: 2464.8923 - val_mean_absolute_error: 39.1189\n",
      "Epoch 99/100\n",
      "12/12 [==============================] - 0s 3ms/step - loss: 1850.1290 - mean_absolute_error: 32.8744 - val_loss: 2460.5972 - val_mean_absolute_error: 39.4836\n",
      "Epoch 100/100\n",
      "12/12 [==============================] - 0s 3ms/step - loss: 2271.8946 - mean_absolute_error: 37.0126 - val_loss: 2503.2039 - val_mean_absolute_error: 39.9865\n",
      "Wall time: 12.3 s\n"
     ]
    }
   ],
   "source": [
    "%%time\n",
    "# Fit the model\n",
    "history = model.fit(\n",
    "    X_train,\n",
    "    y_train,\n",
    "    validation_split = 0.25,\n",
    "    batch_size = 20,\n",
    "    epochs = 100,\n",
    "    verbose = 1)"
   ]
  },
  {
   "cell_type": "code",
   "execution_count": null,
   "metadata": {},
   "outputs": [],
   "source": []
  },
  {
   "cell_type": "markdown",
   "metadata": {
    "colab_type": "text",
    "id": "CR-kCu3c1Kd-"
   },
   "source": [
    "### Create predictions and evaluate the model"
   ]
  },
  {
   "cell_type": "code",
   "execution_count": 20,
   "metadata": {
    "colab": {},
    "colab_type": "code",
    "id": "wkywKqPg1Kd-"
   },
   "outputs": [
    {
     "name": "stdout",
     "output_type": "stream",
     "text": [
      "46.36035728370895\n",
      "61.7266026797403\n"
     ]
    }
   ],
   "source": [
    "from sklearn.metrics import mean_squared_error\n",
    "from math import sqrt\n",
    "# insert code here\n",
    "pred_train= model.predict(X_train)\n",
    "print(np.sqrt(mean_squared_error(y_train,pred_train)))\n",
    "\n",
    "pred= model.predict(X_test)\n",
    "print(np.sqrt(mean_squared_error(y_test,pred))) "
   ]
  },
  {
   "cell_type": "code",
   "execution_count": 29,
   "metadata": {
    "colab": {},
    "colab_type": "code",
    "id": "QCIVpVrG1KeB"
   },
   "outputs": [
    {
     "name": "stdout",
     "output_type": "stream",
     "text": [
      "3810.173583984375\n"
     ]
    }
   ],
   "source": [
    "# Calculate test MSE\n",
    "# insert code here\n",
    "mse_value, mae_value = model.evaluate(X_test, y_test, verbose=0)\n",
    "\n",
    "print(mse_value)"
   ]
  },
  {
   "cell_type": "code",
   "execution_count": 27,
   "metadata": {},
   "outputs": [
    {
     "name": "stdout",
     "output_type": "stream",
     "text": [
      "1/1 [==============================] - 0s 16ms/step - loss: 2149.2830 - mean_absolute_error: 36.6672\n",
      "\n",
      "Test loss: 2149.282959, Test accuracy: 36.667198\n"
     ]
    }
   ],
   "source": [
    "score = model.evaluate(X_train, y_train, batch_size = 1000)\n",
    "print('\\nTest loss: %.6f, Test accuracy: %.6f' % tuple(score))"
   ]
  },
  {
   "cell_type": "code",
   "execution_count": 30,
   "metadata": {},
   "outputs": [
    {
     "name": "stdout",
     "output_type": "stream",
     "text": [
      "48.431419372558594\n"
     ]
    }
   ],
   "source": [
    "# Find RMSE\n",
    "# insert code here\n",
    "print(mae_value)"
   ]
  },
  {
   "cell_type": "code",
   "execution_count": 28,
   "metadata": {},
   "outputs": [
    {
     "name": "stdout",
     "output_type": "stream",
     "text": [
      "Model: \"sequential\"\n",
      "_________________________________________________________________\n",
      "Layer (type)                 Output Shape              Param #   \n",
      "=================================================================\n",
      "dense (Dense)                (None, 500)               5500      \n",
      "_________________________________________________________________\n",
      "dense_1 (Dense)              (None, 100)               50100     \n",
      "_________________________________________________________________\n",
      "dense_2 (Dense)              (None, 50)                5050      \n",
      "_________________________________________________________________\n",
      "dense_3 (Dense)              (None, 1)                 51        \n",
      "=================================================================\n",
      "Total params: 60,701\n",
      "Trainable params: 60,701\n",
      "Non-trainable params: 0\n",
      "_________________________________________________________________\n",
      "None\n"
     ]
    }
   ],
   "source": [
    "print(model.summary())"
   ]
  },
  {
   "cell_type": "code",
   "execution_count": null,
   "metadata": {},
   "outputs": [],
   "source": []
  },
  {
   "cell_type": "markdown",
   "metadata": {
    "colab_type": "text",
    "id": "sSlqjs7e1KeD"
   },
   "source": [
    "### Visualisation of cost"
   ]
  },
  {
   "cell_type": "code",
   "execution_count": 34,
   "metadata": {
    "colab": {},
    "colab_type": "code",
    "id": "1F6hYpNh1KeE",
    "scrolled": true
   },
   "outputs": [
    {
     "data": {
      "text/plain": [
       "<matplotlib.legend.Legend at 0x15f4ed469d0>"
      ]
     },
     "execution_count": 34,
     "metadata": {},
     "output_type": "execute_result"
    },
    {
     "data": {
      "image/png": "[encoded data removed]",
      "text/plain": [
       "<Figure size 1008x432 with 2 Axes>"
      ]
     },
     "metadata": {
      "needs_background": "light"
     },
     "output_type": "display_data"
    }
   ],
   "source": [
    "# insert code here\n",
    "history_dict = history.history\n",
    "loss_values = history_dict['loss']\n",
    "val_loss_values = history_dict['val_loss']\n",
    "accuracy = history_dict['mean_absolute_error']\n",
    "val_accuracy = history_dict['val_mean_absolute_error']\n",
    " \n",
    "epochs = range(1, len(loss_values) + 1)\n",
    "fig, ax = plt.subplots(1, 2, figsize=(14, 6))\n",
    "#\n",
    "# Plot the model accuracy (MAE) vs Epochs\n",
    "#\n",
    "ax[0].plot(epochs, accuracy, 'bo', label='Training accuracy')\n",
    "ax[0].plot(epochs, val_accuracy, 'b', label='Validation accuracy')\n",
    "ax[0].set_title('Training & Validation Accuracy', fontsize=16)\n",
    "ax[0].set_xlabel('Epochs', fontsize=16)\n",
    "ax[0].set_ylabel('Accuracy', fontsize=16)\n",
    "ax[0].legend()\n",
    "#\n",
    "# Plot the loss vs Epochs\n",
    "#\n",
    "ax[1].plot(epochs, loss_values, 'bo', label='Training loss')\n",
    "ax[1].plot(epochs, val_loss_values, 'b', label='Validation loss')\n",
    "ax[1].set_title('Training & Validation Loss', fontsize=16)\n",
    "ax[1].set_xlabel('Epochs', fontsize=16)\n",
    "ax[1].set_ylabel('Loss', fontsize=16)\n",
    "ax[1].legend()"
   ]
  },
  {
   "cell_type": "markdown",
   "metadata": {
    "colab_type": "text",
    "id": "vQLzMZTM1KeG"
   },
   "source": [
    "### Visualisation of residuals"
   ]
  },
  {
   "cell_type": "code",
   "execution_count": 26,
   "metadata": {
    "colab": {},
    "colab_type": "code",
    "id": "opIulVSw1KeH"
   },
   "outputs": [],
   "source": [
    "# insert code here"
   ]
  },
  {
   "cell_type": "markdown",
   "metadata": {
    "colab_type": "text",
    "id": "RERADKgNFq9T"
   },
   "source": [
    "\n",
    "\n",
    "---\n",
    "\n",
    "\n",
    "\n",
    "---\n",
    "\n",
    "\n",
    "\n",
    "> > > > > > > > > © 2021 Institute of Data\n",
    "\n",
    "\n",
    "---\n",
    "\n",
    "\n",
    "\n",
    "---\n",
    "\n",
    "\n",
    "\n"
   ]
  }
 ],
 "metadata": {
  "colab": {
   "collapsed_sections": [],
   "name": "DSIA Lab-10_1.ipynb",
   "provenance": []
  },
  "kernelspec": {
   "display_name": "Python 3",
   "language": "python",
   "name": "python3"
  },
  "language_info": {
   "codemirror_mode": {
    "name": "ipython",
    "version": 3
   },
   "file_extension": ".py",
   "mimetype": "text/x-python",
   "name": "python",
   "nbconvert_exporter": "python",
   "pygments_lexer": "ipython3",
   "version": "3.8.10"
  }
 },
 "nbformat": 4,
 "nbformat_minor": 1
}
