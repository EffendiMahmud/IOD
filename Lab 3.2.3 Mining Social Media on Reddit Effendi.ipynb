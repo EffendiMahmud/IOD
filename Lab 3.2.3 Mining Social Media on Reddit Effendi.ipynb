{
 "cells": [
  {
   "cell_type": "markdown",
   "metadata": {
    "colab_type": "text",
    "id": "nOGGU7gNKck0"
   },
   "source": [
    "<div>\n",
    "<img src=https://www.institutedata.com/wp-content/uploads/2019/10/iod_h_tp_primary_c.svg width=\"300\">\n",
    "</div>"
   ]
  },
  {
   "cell_type": "markdown",
   "metadata": {
    "colab_type": "text",
    "id": "_D_idRWZKck4"
   },
   "source": [
    "# Lab 3.2.3 \n",
    "# *Mining Social Media on Reddit*"
   ]
  },
  {
   "cell_type": "markdown",
   "metadata": {
    "colab_type": "text",
    "id": "atJ1XMr3Kck7"
   },
   "source": [
    "## The Reddit API and the PRAW Package"
   ]
  },
  {
   "cell_type": "markdown",
   "metadata": {
    "colab_type": "text",
    "id": "aJ9o1EfAKck-"
   },
   "source": [
    "The Reddit API is rich and complex, with many endpoints (https://www.reddit.com/dev/api/). It includes methods for navigating its collections, which include various kinds of media as well as comments. Fortunately, the Python library PRAW reduces much of this complexity.\n",
    "\n",
    "Reddit requires developers to create and authenticate an app before they can use the API, but the process is much less onerus than some, and does not have waiting period for approval of new developers (as of 18 August 2018)."
   ]
  },
  {
   "cell_type": "markdown",
   "metadata": {
    "colab_type": "text",
    "id": "egz9IUhlKclB"
   },
   "source": [
    "### 1. Create a Reddit App\n",
    "\n",
    "Go to https://www.reddit.com/prefs/apps and click \"create an app\".\n",
    "\n",
    "Enter the following in the form:\n",
    "\n",
    "- a name for your app\n",
    "- select \"script\" radio button\n",
    "- a description\n",
    "- a redirect URI\n",
    "\n",
    "(Nb. For pulling data into a data science experiment, a local port can be used for the Redirect URI; try http://127.0.0.1:1410)\n",
    "\n",
    "\n",
    "- click \"create app\"\n",
    "- from the form that displays, copy the following to a local text file (or to this notebook):\n",
    "\n",
    "  - name (the name you gave to your app)\n",
    "  - redirect URI\n",
    "  - personal use script (this is your OAuth 2 Client ID)\n",
    "  - secret (this is your OAuth 2 Secret)"
   ]
  },
  {
   "cell_type": "markdown",
   "metadata": {
    "colab_type": "text",
    "id": "LF9V-LJ2KclE"
   },
   "source": [
    "### 2. Register for API Access\n",
    "\n",
    "- follow the link at https://www.reddit.com/wiki/api and read the terms of use for Reddit API access \n",
    "- fill in the form fields at the bottom \n",
    "  - make sure to enter your new OAuth Client ID where indicated\n",
    "  - your use case could be something like \"Training in API usage for data science projects\"\n",
    "  - your platform could be something like \"Jupyter Notebooks / Python\"\n",
    "  \n",
    "- click \"SUBMIT\"\n",
    " \n",
    "- when asked for User-Agent, enter something that fits this pattern:\n",
    "  `your_os-python:your_reddit_appname:v1.0 (by /u/your_reddit_username)`"
   ]
  },
  {
   "cell_type": "code",
   "execution_count": 1,
   "metadata": {},
   "outputs": [
    {
     "name": "stdout",
     "output_type": "stream",
     "text": [
      "Collecting praw\n",
      "  Using cached praw-7.3.0-py3-none-any.whl (165 kB)\n",
      "Collecting prawcore<3,>=2.1\n",
      "  Using cached prawcore-2.2.0-py3-none-any.whl (15 kB)\n",
      "Requirement already satisfied: websocket-client>=0.54.0 in c:\\users\\65911\\anaconda3\\envs\\geopandas\\lib\\site-packages (from praw) (1.1.0)\n",
      "Collecting update-checker>=0.18\n",
      "  Using cached update_checker-0.18.0-py3-none-any.whl (7.0 kB)\n",
      "Requirement already satisfied: requests<3.0,>=2.6.0 in c:\\users\\65911\\anaconda3\\envs\\geopandas\\lib\\site-packages (from prawcore<3,>=2.1->praw) (2.25.1)\n",
      "Requirement already satisfied: idna<3,>=2.5 in c:\\users\\65911\\anaconda3\\envs\\geopandas\\lib\\site-packages (from requests<3.0,>=2.6.0->prawcore<3,>=2.1->praw) (2.10)\n",
      "Requirement already satisfied: certifi>=2017.4.17 in c:\\users\\65911\\anaconda3\\envs\\geopandas\\lib\\site-packages (from requests<3.0,>=2.6.0->prawcore<3,>=2.1->praw) (2020.12.5)\n",
      "Requirement already satisfied: chardet<5,>=3.0.2 in c:\\users\\65911\\anaconda3\\envs\\geopandas\\lib\\site-packages (from requests<3.0,>=2.6.0->prawcore<3,>=2.1->praw) (4.0.0)\n",
      "Requirement already satisfied: urllib3<1.27,>=1.21.1 in c:\\users\\65911\\anaconda3\\envs\\geopandas\\lib\\site-packages (from requests<3.0,>=2.6.0->prawcore<3,>=2.1->praw) (1.26.5)\n",
      "Installing collected packages: update-checker, prawcore, praw\n",
      "Successfully installed praw-7.3.0 prawcore-2.2.0 update-checker-0.18.0\n",
      "Note: you may need to restart the kernel to use updated packages.\n"
     ]
    }
   ],
   "source": [
    "pip install praw"
   ]
  },
  {
   "cell_type": "markdown",
   "metadata": {
    "colab_type": "text",
    "id": "JIsv8YAMKclG"
   },
   "source": [
    "### 3. Load Python Libraries"
   ]
  },
  {
   "cell_type": "code",
   "execution_count": 2,
   "metadata": {
    "colab": {},
    "colab_type": "code",
    "id": "xqi2BT66KclI"
   },
   "outputs": [],
   "source": [
    "import praw\n",
    "import requests\n",
    "import json\n",
    "import pprint\n",
    "from datetime import datetime, date, time"
   ]
  },
  {
   "cell_type": "markdown",
   "metadata": {
    "colab_type": "text",
    "id": "wwXaO9GPKclP"
   },
   "source": [
    "### 4. Authenticate from your Python script"
   ]
  },
  {
   "cell_type": "markdown",
   "metadata": {
    "colab_type": "text",
    "id": "ZF5oh54RKclR"
   },
   "source": [
    "You could assign your authentication details explicitly, as follows:"
   ]
  },
  {
   "cell_type": "code",
   "execution_count": 3,
   "metadata": {
    "colab": {},
    "colab_type": "code",
    "id": "qH2-X9juKclS"
   },
   "outputs": [],
   "source": [
    "my_user_agent = 'Effendi_os-python: TutorialAPI:v1.0'   # your user Agent string goes in here\n",
    "my_client_id = 'w0kcqhVim4T-gg'   # your Client ID string goes in here\n",
    "my_client_secret = '87kKMRGnD6jZ9rF6gQDdvRk0JrnNJA'   # your Secret string goes in here"
   ]
  },
  {
   "cell_type": "markdown",
   "metadata": {
    "colab_type": "text",
    "id": "1TmzPxHIKclX"
   },
   "source": [
    "A better way would be to store these details externally, so they are not displayed in the notebook:\n",
    "\n",
    "- create a file called \"auth_reddit.json\" in your \"notebooks\" directory, and save your credentials there in JSON format:\n",
    "\n",
    "`{   \"my_client_id\": \"your Client ID string goes in here\",` <br>\n",
    "&nbsp;&nbsp;&nbsp;&nbsp;&nbsp;&nbsp;&nbsp;&nbsp;` \"my_client_secret\": \"your Secret string goes in here\",` <br>\n",
    "&nbsp;&nbsp;&nbsp;&nbsp;&nbsp;&nbsp;&nbsp;&nbsp;`\"my_user_agent\": \"your user Agent string goes in here\"` <br>\n",
    "`}`\n",
    "\n",
    "Use the following code to load the credentials:  "
   ]
  },
  {
   "cell_type": "code",
   "execution_count": 4,
   "metadata": {
    "colab": {},
    "colab_type": "code",
    "id": "mFbFWGnVKclY"
   },
   "outputs": [
    {
     "data": {
      "text/plain": [
       "'C:\\\\Users\\\\65911\\\\Desktop\\\\module 1\\\\myLab'"
      ]
     },
     "execution_count": 4,
     "metadata": {},
     "output_type": "execute_result"
    }
   ],
   "source": [
    "pwd()  # make sure your working directory is where the file is"
   ]
  },
  {
   "cell_type": "code",
   "execution_count": 5,
   "metadata": {
    "colab": {},
    "colab_type": "code",
    "id": "Jc5_dh-jKclc"
   },
   "outputs": [],
   "source": [
    "path_auth = 'auth_reddit.json'\n",
    "auth = json.loads(open(path_auth).read())\n",
    "pp = pprint.PrettyPrinter(indent=4)\n",
    "# For debugging only:\n",
    "#pp.pprint(auth)\n",
    "\n",
    "my_user_agent = auth['my_user_agent']\n",
    "my_client_id = auth['my_client_id']\n",
    "my_client_secret = auth['my_client_secret']"
   ]
  },
  {
   "cell_type": "markdown",
   "metadata": {
    "colab_type": "text",
    "id": "lVKFy9rZKclf"
   },
   "source": [
    "Security considerations: \n",
    "- this method only keeps your credentials invisible as long as nobody else gets access to this notebook file \n",
    "- if you wanted another user to have access to the executable notebook without divulging your credentials you should set up an OAuth 2.0 workflow to let them obtain and apply their own API tokens when using your app\n",
    "- if you just want to share your analyses, you could use a separate script (which you don't share) to fetch the data and save it locally, then use a second notebook (with no API access) to load and analyse the locally stored data"
   ]
  },
  {
   "cell_type": "markdown",
   "metadata": {
    "colab_type": "text",
    "id": "fgHqt72rKclg"
   },
   "source": [
    "### 5. Exploring the API"
   ]
  },
  {
   "cell_type": "markdown",
   "metadata": {
    "colab_type": "text",
    "id": "ByEQS6QsKclh"
   },
   "source": [
    "Here is how to connect to Reddit with read-only access:"
   ]
  },
  {
   "cell_type": "code",
   "execution_count": 6,
   "metadata": {
    "colab": {},
    "colab_type": "code",
    "id": "8hkZJlcJKcli"
   },
   "outputs": [
    {
     "name": "stdout",
     "output_type": "stream",
     "text": [
      "Read-only = True\n"
     ]
    }
   ],
   "source": [
    "reddit = praw.Reddit(client_id = my_client_id, \n",
    "                     client_secret = my_client_secret, \n",
    "                     user_agent = my_user_agent)\n",
    "\n",
    "print('Read-only = ' + str(reddit.read_only))  # Output: True"
   ]
  },
  {
   "cell_type": "markdown",
   "metadata": {
    "colab_type": "text",
    "id": "slGz0lS5Kclk"
   },
   "source": [
    "In the next cell, put the cursor after the '.' and hit the [tab] key to see the available members and methods in the response object:"
   ]
  },
  {
   "cell_type": "code",
   "execution_count": 7,
   "metadata": {
    "colab": {},
    "colab_type": "code",
    "id": "6MvyYewEKcll"
   },
   "outputs": [
    {
     "data": {
      "text/plain": [
       "<bound method Reddit.info of <praw.reddit.Reddit object at 0x0000026820420B80>>"
      ]
     },
     "execution_count": 7,
     "metadata": {},
     "output_type": "execute_result"
    }
   ],
   "source": [
    "reddit.info"
   ]
  },
  {
   "cell_type": "markdown",
   "metadata": {
    "colab_type": "text",
    "id": "AKfXBu7yKcln"
   },
   "source": [
    "Consult the PRAW and Reddit API documentation. Print a few of the response members below:"
   ]
  },
  {
   "cell_type": "code",
   "execution_count": 8,
   "metadata": {
    "colab": {},
    "colab_type": "code",
    "id": "31Njl99lKcln"
   },
   "outputs": [
    {
     "data": {
      "text/plain": [
       "<bound method SubredditHelper.create of <praw.models.helpers.SubredditHelper object at 0x000002682043FF10>>"
      ]
     },
     "execution_count": 8,
     "metadata": {},
     "output_type": "execute_result"
    }
   ],
   "source": [
    "reddit.subreddit.create"
   ]
  },
  {
   "cell_type": "markdown",
   "metadata": {
    "colab_type": "text",
    "id": "5L10cuKfKclp"
   },
   "source": [
    "Content in Reddit is grouped by topics called \"subreddits\". Content, called \"submissions\", is fetched by calling the `subreddit` method of the connection object (which is our `reddit` variable) with an argument that matches an actual topic. \n",
    "\n",
    "We also need to append a further method call to a \"subinstance\", such as one of the following:\n",
    "\n",
    "- controversial\n",
    "- gilded\n",
    "- hot\n",
    "- new\n",
    "- rising\n",
    "- top\n",
    "\n",
    "One of the submission objects members is `title`. Fetch and print 10 submission titles from the 'learnpython' subreddit using one of the subinstances above:"
   ]
  },
  {
   "cell_type": "code",
   "execution_count": 9,
   "metadata": {
    "colab": {},
    "colab_type": "code",
    "id": "2W1iCDE9Kclp"
   },
   "outputs": [
    {
     "name": "stdout",
     "output_type": "stream",
     "text": [
      "Ask Anything Monday - Weekly Thread\n",
      "Best way to randomly assign an attribute to 10% of objects in a list?\n",
      "[Req] Review my code for a simple GUI calculator application!\n",
      "PyCharm console\n",
      "help with my code\n",
      "Could I use Python for my project?\n",
      "Pipenv vs Poetry vs PDM vs Conda\n",
      "Need help understanding this boolean logic: print(1=='1' ) results in false\n",
      "Any tips for understanding \"self\" more?\n",
      "How can I write a programme that will print the factorial of the digits of a number?\n"
     ]
    }
   ],
   "source": [
    "for submission in reddit.subreddit('learnpython').hot(limit=10):\n",
    "    print(submission.title)"
   ]
  },
  {
   "cell_type": "markdown",
   "metadata": {
    "colab_type": "text",
    "id": "00coF0YJKclr"
   },
   "source": [
    "Now retrieve 10 authors:"
   ]
  },
  {
   "cell_type": "code",
   "execution_count": 10,
   "metadata": {
    "colab": {},
    "colab_type": "code",
    "id": "U1vTByCGKclr"
   },
   "outputs": [
    {
     "name": "stdout",
     "output_type": "stream",
     "text": [
      "AutoModerator\n",
      "marienbad2\n",
      "Traditional-Leg-1106\n",
      "cosgus\n",
      "0pium666\n",
      "IMuhPEA\n",
      "kautica0\n",
      "wewnames\n",
      "Izaya_Orihara170\n",
      "GameDeveloper94\n"
     ]
    }
   ],
   "source": [
    "for submission in reddit.subreddit('learnpython').hot(limit=10):\n",
    "    print(submission.author)"
   ]
  },
  {
   "cell_type": "markdown",
   "metadata": {
    "colab_type": "text",
    "id": "dOFMMl6AKclt"
   },
   "source": [
    "Note that we obtained the titles and authors from separate API calls. Can we expect these to correspond to the same submissions? If not, how could we gurantee that they do?"
   ]
  },
  {
   "cell_type": "markdown",
   "metadata": {
    "colab": {},
    "colab_type": "code",
    "id": "eIPVr-WaKclu"
   },
   "source": [
    "Submission"
   ]
  },
  {
   "cell_type": "markdown",
   "metadata": {
    "colab_type": "text",
    "id": "IjIJ6ojAKclv"
   },
   "source": [
    "Why doesn't the next cell produce output?"
   ]
  },
  {
   "cell_type": "code",
   "execution_count": 13,
   "metadata": {
    "colab": {},
    "colab_type": "code",
    "id": "ifxjcJ2aKclw"
   },
   "outputs": [
    {
     "name": "stdout",
     "output_type": "stream",
     "text": [
      "Author: AutoModerator | Title: Ask Anything Monday - Weekly Thread\n",
      "Author: marienbad2 | Title: Best way to randomly assign an attribute to 10% of objects in a list?\n",
      "Author: Traditional-Leg-1106 | Title: [Req] Review my code for a simple GUI calculator application!\n",
      "Author: cosgus | Title: PyCharm console\n",
      "Author: 0pium666 | Title: help with my code\n",
      "Author: IMuhPEA | Title: Could I use Python for my project?\n",
      "Author: kautica0 | Title: Pipenv vs Poetry vs PDM vs Conda\n",
      "Author: wewnames | Title: Need help understanding this boolean logic: print(1=='1' ) results in false\n",
      "Author: Izaya_Orihara170 | Title: Any tips for understanding \"self\" more?\n",
      "Author: GameDeveloper94 | Title: How can I write a programme that will print the factorial of the digits of a number?\n"
     ]
    }
   ],
   "source": [
    "submissions = reddit.subreddit('learnpython').hot(limit=10)\n",
    "for submission in submissions:\n",
    "    print(\"Author: {} | Title: {}\".format(submission.author, submission.title))"
   ]
  },
  {
   "cell_type": "code",
   "execution_count": null,
   "metadata": {
    "colab": {},
    "colab_type": "code",
    "id": "kPNVNapBKcly"
   },
   "outputs": [],
   "source": []
  },
  {
   "cell_type": "markdown",
   "metadata": {
    "colab_type": "text",
    "id": "4aZ2OSd_Kclz"
   },
   "source": [
    "Print two comments associated with each of these submissions:"
   ]
  },
  {
   "cell_type": "code",
   "execution_count": 14,
   "metadata": {
    "colab": {},
    "colab_type": "code",
    "id": "RO4ppDPJKcl0"
   },
   "outputs": [
    {
     "name": "stdout",
     "output_type": "stream",
     "text": [
      "Hello! Like many others I am new to Python and coding - although I have some prior experience with HTML and css. I have a specific problem I want to solve, and as far as I can tell Python is the way to go. \n",
      "\n",
      "I am a frequent user of a car sharing app, which is awesome - but it’s lacking in showing summarized statistics. I would like to build a web app which lets a user of the car sharing app log in, and then see their rental history summarized (total/monthly number of rentals, total/monthly km traveled, total/monthly money spent in the app). \n",
      "\n",
      "I have done some research, and i have found resources on how to scrape websites and how to implement BankID login.\n",
      "\n",
      "My questions are: \n",
      "1. Does this sound doable?\n",
      "2. Should I first try to learn Python first through Udemy and other resources, before trying to write code?\n",
      "\n",
      "Hoping for some insight, any pointers are appreciated!\n",
      "I want to write a program which uses multiprocessing, the program will create 2 types of subprocesses, one will be used to get price data from an exchange (let's call this process a price monitor) and the other one will use this data for something (let's call this one the decision maker)... The reason I want to create a price monitor process separately is because I do not want each of my subprocesses to request data from the exchange separately as this can easily lead to api rate limit being exceeded. The problem I am having is I do not know how to create a variable \"Price\" that every subprocess can see.\n",
      "Use `random.sample`\n",
      "\n",
      "[https://docs.python.org/3/library/random.html#random.sample](https://docs.python.org/3/library/random.html#random.sample)\n",
      "\n",
      "    sample_size = int(0.1 * len(objects_list))\n",
      "    sample = random.sample(objects_list, k=sample_size)\n",
      "    \n",
      "    for obj in sample:\n",
      "        # add the attribute to each object\n",
      "    import random \n",
      "    print(random.sample(range(100), 10))\n",
      "For a beginner, this is very very good. Some things you should improve, in the order I noticed them:\n",
      "\n",
      "1. You have *far* too many comments. And most of them don't tell me anything useful. If I see a line that starts with `btn.place(...)`, I don't need a comment like `# Set the position of the button.` to figure out what that line does. Comments like that are just noise.\n",
      "2. You have too much module-level code. 99% of your code should be inside of functions. This makes the code reusable (by calling the relevant function), and also neatly organizes the code into chunks with a specific purpose, which aids readability. (It's a really big deal that functions have *names*. If I see a `def create_window():`, I immediately have a pretty good idea of what the code in that function does. Naming things is really important.)\n",
      "3. Some variables don't have PEP8-compliant names, like `btn_startX` (should be `btn_start_x`).\n",
      "4. Setting the window to a specific size and placing widgets at specific pixel coordinates is a *waaaaaaay* outdated way of creating GUIs. What if someone uses a larger font size than you? Your whole GUI will be messed up. What if someone wants to resize the window? You don't allow them to do that. Instead of `place`, use the `grid` and `pack` geometry managers.\n",
      "5. Your code would benefit from some empty lines. For example, the entire `calculate` function is one massive block of text. Insert some empty lines to organize the code into logical chunks.\n",
      "\n",
      "If you're interested, you can also check out this article I wrote about [writing readable code](https://aran-fey.github.io/programming-guides/readable-code.html). You can see there how readable your code can get if you organize it into a bunch of short functions.\n",
      "Your commenting is way overboard. `main_window.title` doesn't need a comment to explain that it sets the title, and shouldn't have a comment. Code should be self documenting, the names of functions and variables explaining what is happening. Comments should be used as infrequently as possible, and you should feel ashamed when you write them because it means that your code is written badly.\n",
      "\n",
      "`.grid` would in fact be better here. Instead of having to do pixel calculations you defer that to tkinter and just tell it the layout rather than specific positions. To have the *Entry* widget across the whole top you would put the buttons in a *Frame*, which can be positioned below the *Entry* widget. Instead of pixel calculations you end up with\n",
      "\n",
      "    ... # Lines 1 - 29\n",
      "    output.grid(column=0, row=0)\n",
      "    ... # Lines 36 - 73\n",
      "    \n",
      "    frame = tkinter.Frame(main_window)\n",
      "    for row_position, button_row in enumerate(button_layout):\n",
      "        for column_position, button_text in enumerate(button_row):\n",
      "    \n",
      "            button = tkinter.Button(frame, text=button_text,\n",
      "                                    font='Helvetica 20', width=2\n",
      "                                    command=partial(calculate, button_text))\n",
      "            button.grid(column=column_position, row=row_position, ipadx=5)\n",
      "    \n",
      "    frame.grid(column=0, row=1)\n",
      "    \n",
      "    main_window.mainloop()\n",
      "\n",
      "Instead of saying `if len(entry_text) > 0` you can use the truthiness of non-empty strings and just say `if entry_text`\n",
      "\n",
      "In the calculate function, you reference `output` which is defined outside of the function instead of being passed in. This is generally bad practice, as it makes the function harder to test. You could get two different results from calling a function with the same arguments. Instead pass `output` into the function as well\n",
      "\n",
      "Try blocks should have the minimum amount of code necessary in them, especially with a catch as broad as `Exception`. You should put only the eval inside the try, then update `output` in an else block. It looks something like this:\n",
      "\n",
      "    try:\n",
      "        result = eval(entry_text)\n",
      "    except Exception as error:\n",
      "        print(error)\n",
      "    else:\n",
      "        output.insert(tkinter.END, result)\n",
      "On the command line just run python (or python3). It drops you into an interactive interpreter, same as in pycharm\n",
      "jupyter notebook/lab or prompt.\n",
      "\n",
      "https://jupyter.org/\n",
      "I think you should use a dictionary to store each type and brand ...\n",
      "\n",
      "Like say you have a product which belongs to type 'hygiene' - you add a new key to the dictionary called 'hygiene' , and append the value to a list mapped to the key.  To get the length , just return the length of the array mapped to every key.\n",
      "\n",
      "At the end , you can use an fstring to print everything.\n",
      "You’ll want to create a variable that holds a tuple for each product. Considering your example seems to allow for multiple products, you’ll want to use a while loop to generate more than one tuple. If you want your tuples to print on the same line, you can store them in a list and then print the list. If that doesn’t matter, just print them within the while loop. For the last part where you categorize the products, you’ll want some kind of variable for those categories too (i.e. if a product is soap, you add 1 to soap.)\n",
      "Yeah, python can do that. There's libraries for accessing databases, but without knowing what you use I can't recommend anything specific. To build the ui you have a few options. tkinter and simplegui are easy to learn, but a little restricted on the overall look of the ui. pyqt gives you a lot more freedom but is more complex. You could also build a webapp using either flask or django. You'd need to learn some html, css and javascript for that.\n",
      "Sound like you want to build a Web api.\n",
      "\n",
      "All most every popular langue can do that including python.\n",
      "\n",
      "You need to use sql Alchemy with flask/django. Sql Alchemy will make talking to the dB much easyer and flask or django are going to be the frameworks that you can build the api out of. You can use other libraries as necessary.\n",
      "Poetry seems to have the most community backing at this point. I also find it a pleasure.\n",
      "[https://python-poetry.org/docs/cli/#publish](https://python-poetry.org/docs/cli/#publish)\n",
      "\n",
      "THIS makes the difference.\n",
      "\n",
      "vs\n",
      "\n",
      "[https://packaging.python.org/](https://packaging.python.org/)\n",
      "\n",
      "&#x200B;\n",
      "\n",
      "otherwise its all same-o same-o with pip being the fastest.\n",
      "AS other have said, Python never performs type conversion implicitly between ints and strings, but to clarify from your last line, this is not because of implicit type conversion but a feature of comparison logic:\n",
      "\n",
      "To simplify, when comparing an object to another, python calls the object's \\_\\_eq__ method. trying (10).\\_\\_eq\\_\\_(10.0) first then (10.0).\\_\\_eq\\_\\_(10) if the first call raises NotImplemented.\n",
      "\n",
      "Since int.\\_\\_eq__ has no idea how to handle a float:\n",
      "\n",
      "    >>> int(10).__eq__(float(10.0))\n",
      "    NotImplemented\n",
      "\n",
      "But float.\\_\\_eq__ does, it's the second call that produces the answer:\n",
      "\n",
      "    >>> float(10.0).__eq__(int(10))\n",
      "    True\n",
      "\n",
      "This is not just a simple internal type cast either though, the cPython implementation has over 100 lines of code dedicated to this, to avoid rounding errors an unchecked cast could produce:\n",
      "\n",
      "https://github.com/python/cpython/blob/v3.8.1/Objects/floatobject.c#L382\n",
      "\n",
      "edit:typo in formatting\n",
      "Those are the rules, integers and floats can be compared because they're both \"numbers\" however a number and a string are fundamentally different. \n",
      "\n",
      "(Also no type conversion is being done here.)\n"
     ]
    },
    {
     "name": "stdout",
     "output_type": "stream",
     "text": [
      "Expanding out to C++ or just general object-oriented resources may help here.\n",
      "\n",
      "This goes a bit behind the scenes and might be just as confusing, but, your class functions are only created once. They only exist at 1 memory location in your executable. So if you had 2 classes, i.e\n",
      "\n",
      "    class MyClass:\n",
      "        def __init__(self):\n",
      "            self.x = 1\n",
      "    \n",
      "    obj1 = MyClass()\n",
      "    obj2 = MyClass()\n",
      "\n",
      "2 separate objects, but the whole MyClass and its init function only exists one time. So if we then did this:\n",
      "\n",
      "    class MyClass:\n",
      "        def __init__(self):\n",
      "            self.x = 1\n",
      "        def UpdateX(self):\n",
      "            self.x = 10\n",
      "    \n",
      "    obj1 = MyClass()\n",
      "    obj2 = MyClass()\n",
      "    obj1.UpdateX()\n",
      "    print(obj1.x)\n",
      "    print(obj2.x)\n",
      "\n",
      "What do you expect to be printed? Hopefully `10` and `1`, as that's what you get. But the question is, how? Once again, the function `UpdateX` only exists once. So how can it know to change obj1's value and not touch obj2, or any other object? And if we call it again for obj2, how does it now know to change obj2's data instead?\n",
      "\n",
      "\n",
      "The answer is \"self.\" When you call the function UpdateX, you have to give it a reference to the object it's supposed to work on, so it knows to update *that* object's data, and not any others. Since all of your classes are created at run time, there's no way to know ahead of time what functions need to be created, and it would create insane duplication and huge executable sizes if the same function was duplicated a million times over, just changing some memory location to point to the object you want each time. It was much more sensible to instead just give that memory location to the function when called, that way you only need 1 copy and you can make as many classes as you want.\n",
      "\n",
      "You could try looking up the `this pointer`, as that's what it's called in C++ and there should be a lot of resources and explanations around it.\n",
      "I would recommend the Corey Schafer video series on youtube.\n",
      "What have you tried so far?\n",
      "\n",
      "Have you written a factorial function yet? Show your code if you're struggling.\n",
      "As mentioned you can get the digits by converting to a string and iterating through it, you can also get digits by dividing by 10 and using the remainder. \n",
      "\n",
      "You probably want to write a factorial function to use on each digit.\n"
     ]
    }
   ],
   "source": [
    "submissions = reddit.subreddit('learnpython').hot(limit=10)\n",
    "for submission in submissions:\n",
    "    top_level_comments = list(submission.comments)\n",
    "    all_comments = submission.comments.list()[:2]\n",
    "    for comment in all_comments:\n",
    "        print(comment.body)"
   ]
  },
  {
   "cell_type": "markdown",
   "metadata": {
    "colab_type": "text",
    "id": "JvYEOesKKcl2"
   },
   "source": [
    "Referring to the API documentation, explore the submissions object and print some interesting data:"
   ]
  },
  {
   "cell_type": "code",
   "execution_count": null,
   "metadata": {
    "colab": {},
    "colab_type": "code",
    "id": "glEShYZbKcl3"
   },
   "outputs": [],
   "source": []
  },
  {
   "cell_type": "markdown",
   "metadata": {
    "colab_type": "text",
    "id": "Khno5kpWKcl5"
   },
   "source": [
    "#### Posting to Reddit"
   ]
  },
  {
   "cell_type": "markdown",
   "metadata": {
    "colab_type": "text",
    "id": "zjnyN1OfKcl6"
   },
   "source": [
    "To be able to post to your Reddit account (i.e. contribute submissions), you need to connect to the API with read/write privilege. This requires an *authorised instance*, which is obtained by including your Reddit user name and password in the connection request: "
   ]
  },
  {
   "cell_type": "code",
   "execution_count": 15,
   "metadata": {
    "colab": {},
    "colab_type": "code",
    "id": "ZXG7kouZKcl7"
   },
   "outputs": [
    {
     "name": "stdout",
     "output_type": "stream",
     "text": [
      "False\n"
     ]
    }
   ],
   "source": [
    "reddit = praw.Reddit(client_id='my client id',\n",
    "                     client_secret='my client secret',\n",
    "                     user_agent='my user agent',\n",
    "                     username='my username',\n",
    "                     password='my password')\n",
    "print(reddit.read_only)  # Output: False"
   ]
  },
  {
   "cell_type": "markdown",
   "metadata": {
    "colab_type": "text",
    "id": "nEjrsF9vKcl-"
   },
   "source": [
    "You could hide these last two credentials by adding them to your JSON file and then reading all five values at once."
   ]
  },
  {
   "cell_type": "code",
   "execution_count": null,
   "metadata": {
    "colab": {},
    "colab_type": "code",
    "id": "BVcbR0K1Kcl_"
   },
   "outputs": [],
   "source": []
  },
  {
   "cell_type": "markdown",
   "metadata": {
    "colab_type": "text",
    "id": "WqBG4xS5Kk3X"
   },
   "source": [
    ">\n",
    ">\n"
   ]
  },
  {
   "cell_type": "markdown",
   "metadata": {
    "colab_type": "text",
    "id": "EfPDz2gEKnRn"
   },
   "source": [
    ">\n",
    ">\n"
   ]
  },
  {
   "cell_type": "markdown",
   "metadata": {
    "colab_type": "text",
    "id": "5Uo-KnYhKoRA"
   },
   "source": [
    "\n",
    "\n",
    "---\n",
    "\n",
    "\n",
    "\n",
    "---\n",
    "\n",
    "\n",
    "\n",
    "> > > > > > > > > © 2021 Institute of Data\n",
    "\n",
    "\n",
    "---\n",
    "\n",
    "\n",
    "\n",
    "---\n",
    "\n",
    "\n",
    "\n"
   ]
  }
 ],
 "metadata": {
  "colab": {
   "collapsed_sections": [],
   "name": "DSIA Lab 2.2.3.ipynb",
   "provenance": []
  },
  "kernelspec": {
   "display_name": "Python 3",
   "language": "python",
   "name": "python3"
  },
  "language_info": {
   "codemirror_mode": {
    "name": "ipython",
    "version": 3
   },
   "file_extension": ".py",
   "mimetype": "text/x-python",
   "name": "python",
   "nbconvert_exporter": "python",
   "pygments_lexer": "ipython3",
   "version": "3.8.10"
  }
 },
 "nbformat": 4,
 "nbformat_minor": 1
}
