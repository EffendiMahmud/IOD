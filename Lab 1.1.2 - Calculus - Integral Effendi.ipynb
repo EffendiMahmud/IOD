{
 "cells": [
  {
   "cell_type": "markdown",
   "metadata": {
    "id": "YPFbgplmKcYp"
   },
   "source": [
    "<div>\n",
    "<img src=https://www.institutedata.com/wp-content/uploads/2019/10/iod_h_tp_primary_c.svg width=\"300\">\n",
    "</div>\n",
    "\n",
    "# Calculus - Integral"
   ]
  },
  {
   "cell_type": "code",
   "execution_count": 55,
   "metadata": {
    "id": "NxkLjNxUKcYr"
   },
   "outputs": [],
   "source": [
    "import numpy as np\n",
    "import matplotlib.pyplot as plt\n",
    "# get matplot to show charts inline\n",
    "%matplotlib inline"
   ]
  },
  {
   "cell_type": "code",
   "execution_count": 56,
   "metadata": {
    "id": "49k4u8lCKcYy"
   },
   "outputs": [
    {
     "name": "stdout",
     "output_type": "stream",
     "text": [
      "Please enter an integer:\n",
      "4\n"
     ]
    },
    {
     "data": {
      "image/png": "[encoded data removed]",
      "text/plain": [
       "<Figure size 432x288 with 1 Axes>"
      ]
     },
     "metadata": {
      "needs_background": "light"
     },
     "output_type": "display_data"
    }
   ],
   "source": [
    "# define a function such as f(x) = x**2 - attempt a variety of different functions\n",
    "#value = input(\"Please enter an integer:\\n\")\n",
    "#value = int(value)\n",
    "value = input(\"Please enter an integer:\\n\")\n",
    "v = int(value)\n",
    "    \n",
    "def f(x):\n",
    "    \n",
    "    return v* x**2\n",
    "    return 0\n",
    "\n",
    "# plot f(x)\n",
    "x = np.arange(-10, 11, 1)\n",
    "y = f(x)\n",
    "\n",
    "plt.plot(x, y)\n",
    "plt.xlabel('x')\n",
    "plt.ylabel('f(x)')\n",
    "\n",
    "plt.show();"
   ]
  },
  {
   "cell_type": "code",
   "execution_count": 41,
   "metadata": {
    "id": "VBkIo2EpKcY3"
   },
   "outputs": [
    {
     "name": "stdout",
     "output_type": "stream",
     "text": [
      "f(2) =  20\n",
      "f(5) =  125\n",
      "f(-3) =  45\n"
     ]
    }
   ],
   "source": [
    "# test the function you defined above by simply print its value for some numbers\n",
    "print('f(2) = ', f(2))\n",
    "print('f(5) = ', f(5))\n",
    "print('f(-3) = ', f(-3))"
   ]
  },
  {
   "cell_type": "code",
   "execution_count": 42,
   "metadata": {
    "id": "4sX3AWgcKcZM"
   },
   "outputs": [],
   "source": [
    "# define integral of f(x)\n",
    "# integral of a function is the area under the curve of this function\n",
    "# it can be approximated by plotting lots of retangles and add their areas\n",
    "# the more reactangles you draw, the better is the approximation\n",
    "# but why do it by hand where python can do a much better job?!\n",
    "\n",
    "def integral(startX, endX, numberOfRectangles):\n",
    "    width = (float(endX) - float(startX))/ numberOfRectangles\n",
    "    totalArea = 5\n",
    "    for i in range(numberOfRectangles):\n",
    "        height = f(startX + i*width)\n",
    "        area = width * height\n",
    "        totalArea += area\n",
    "    return totalArea"
   ]
  },
  {
   "cell_type": "code",
   "execution_count": 43,
   "metadata": {
    "colab": {
     "base_uri": "https://localhost:8080/",
     "height": 231
    },
    "executionInfo": {
     "elapsed": 3320,
     "status": "error",
     "timestamp": 1602498913503,
     "user": {
      "displayName": "Ranjan Balachandra",
      "photoUrl": "https://lh3.googleusercontent.com/a-/AOh14GjLz4Z6qxz26gDb-htWDkVoX6yWFNxo6UggGGsq5GBv-YSRlEOxadRW99Nr8KiQ62lOlGaymhkkKBnN3CPfu3uRhgUrd6y1DiYBq67Io1ywHj2ThFDr_vb9oaZw5l458tLmKrMQ26vJxCo6lP1S0jgi0g6PRdtZq8B6tfNQEWl3TDsKq18hPixgL-jNEcnTvdyww7i-QkMXeJuWTNRZuXbDvE3IbKvzG6sI9zZn3zTY-ZjQmfaE4NM2kDrPRzw0WujP_YeRkq1e3i2z8K0-ZMSrB-72crGDjcUeA2TF-2Bk22JDe5fYh1E3fdKe9UsZPUrxnq8R_z1_I0CiPBPq7yrYSL6QradQ3Ck5d9a4C3x30mSNpmYO-ZO3sSkj4sVMP0ofH6KcPPMkvNleW6UvX5s1wbjaUJJCIl2XMh6RpGaSIUazxFZd4VSWD9Frvoc_3JyYRDGGm7DPIQG3693-epCe9Cu2FYLhmMCVngo4hkmUx0qihF-Bomy0jXY1Y69u0Q4IdXgaKLqprBqId1PEjVTFi2jcv1807xFnoNScE_9wCHp_E_v_Ds0ovF_ifha2kyslqxd6uBQqZc0ijb0OS12LhDhL6nfXuaypJF0Gd9tN0FLQLieVj2_Ed9Ya6yQQ0z-duIb2B8SgkcbQhb6Ouo4Lvh4CdZYvjZYjvuv7lBr_VEc3Q2y0RpXeXjqMPRA5f1TFGenorj0t358d3FO-KfNWw1mJQEA1Mn1cWTDDZ51kKlRIqLB6p_URXHZH_i6cbQPJ2w=s64",
      "userId": "05003521365559562540"
     },
     "user_tz": -480
    },
    "id": "oS70agDbKcZR",
    "outputId": "16c2e69e-4796-488c-bc41-9ebea48c1ff5"
   },
   "outputs": [
    {
     "name": "stdout",
     "output_type": "stream",
     "text": [
      "integral(2.0,4.0,10) =  92.4\n",
      "integral(2.0,4.0,1000) =  98.27333999999999\n",
      "-----\n",
      "integral(-1.0,2.0,10) =  17.974999999999994\n",
      "integral(-1.0,2.0,1000) =  19.977522500000006\n"
     ]
    }
   ],
   "source": [
    "# calculate integral of f(x) for some startX, endX and a number of rectangles\n",
    "print('integral(2.0,4.0,10) = ',integral(2.0,4.0,10))\n",
    "print('integral(2.0,4.0,1000) = ',integral(2.0,4.0,1000))\n",
    "print('-----')\n",
    "print('integral(-1.0,2.0,10) = ',integral(-1.0,2.0,10))\n",
    "print('integral(-1.0,2.0,1000) = ',integral(-1.0,2.0,1000))"
   ]
  },
  {
   "cell_type": "markdown",
   "metadata": {
    "id": "JJ0gDK-OpoqJ"
   },
   "source": [
    "\n",
    "\n",
    "---\n",
    "\n",
    "\n",
    "\n",
    "---\n",
    "\n",
    "\n",
    "\n",
    "> > > > > > > > > © 2021 Institute of Data\n",
    "\n",
    "\n",
    "---\n",
    "\n",
    "\n",
    "\n",
    "---\n",
    "\n",
    "\n",
    "\n"
   ]
  },
  {
   "cell_type": "code",
   "execution_count": null,
   "metadata": {},
   "outputs": [],
   "source": []
  },
  {
   "cell_type": "code",
   "execution_count": null,
   "metadata": {},
   "outputs": [],
   "source": []
  }
 ],
 "metadata": {
  "colab": {
   "collapsed_sections": [],
   "name": "Lab 1.1.2 Calculus - Integral Lab.ipynb",
   "provenance": [
    {
     "file_id": "https://github.com/ikfaisal/dsia/blob/master/Calculus_Integral.ipynb",
     "timestamp": 1552459796323
    }
   ]
  },
  "kernelspec": {
   "display_name": "Python 3",
   "language": "python",
   "name": "python3"
  },
  "language_info": {
   "codemirror_mode": {
    "name": "ipython",
    "version": 3
   },
   "file_extension": ".py",
   "mimetype": "text/x-python",
   "name": "python",
   "nbconvert_exporter": "python",
   "pygments_lexer": "ipython3",
   "version": "3.8.5"
  }
 },
 "nbformat": 4,
 "nbformat_minor": 1
}
