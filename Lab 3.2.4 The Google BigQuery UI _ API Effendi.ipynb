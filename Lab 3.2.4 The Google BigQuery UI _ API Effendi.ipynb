{
 "cells": [
  {
   "cell_type": "markdown",
   "metadata": {
    "colab_type": "text",
    "id": "QaGbHIhQLFYq"
   },
   "source": [
    "<div>\n",
    "<img src=https://www.institutedata.com/wp-content/uploads/2019/10/iod_h_tp_primary_c.svg width=\"300\">\n",
    "</div>"
   ]
  },
  {
   "cell_type": "markdown",
   "metadata": {
    "colab_type": "text",
    "id": "sMx6dqz7LFYv"
   },
   "source": [
    "# Lab 3.2.4 \n",
    "# *The Google BigQuery UI and API*"
   ]
  },
  {
   "cell_type": "markdown",
   "metadata": {
    "colab_type": "text",
    "id": "SKGiPVSwLFYx"
   },
   "source": [
    "## Introduction"
   ]
  },
  {
   "cell_type": "markdown",
   "metadata": {
    "colab_type": "text",
    "id": "aKMV45iQLFY2"
   },
   "source": [
    "The Google BigQuery UI provides access to Google's extensive collection of public data sets via an SQL-based query engine. \n",
    "\n",
    "The BigQuery API provides programmatic access to the data sets.\n",
    "\n",
    "We can use the UI to discover interesting data before writing Python code to access it. Then we can reproduce it in an API request so as to aggregate large amounts of data on Google's infrastructure before pulling the results into our application."
   ]
  },
  {
   "cell_type": "markdown",
   "metadata": {
    "colab_type": "text",
    "id": "q3JonnfULFY6"
   },
   "source": [
    "## BigQuery Web UI\n",
    "\n",
    "Work through the Quickstart at https://cloud.google.com/bigquery/docs/quickstarts/quickstart-web-ui.\n",
    "\n",
    "You will need to set up a Google Cloud Platform account if you don't already have one. (This should not cost anything during the trial period unless you perform a large amount of querying. Afterwards, costs are based on actual resource usage, but most offerings have a free tier.)"
   ]
  },
  {
   "cell_type": "markdown",
   "metadata": {
    "colab_type": "text",
    "id": "QM5QOIBpLFY9"
   },
   "source": [
    "## BigQuery API\n",
    "\n",
    "You should already have the Google Cloud Client Library for Python installed (https://cloud.google.com/python/setup).\n",
    "\n",
    "- Open Google Cloud Console (https://console.cloud.google.com/home/) and select to create a project.\n",
    "\n",
    "- Under \"Getting Started\", select \"Enable APIs and get credentials such as keys\"."
   ]
  },
  {
   "cell_type": "markdown",
   "metadata": {
    "colab_type": "text",
    "id": "0Ni9g5D7LFY_"
   },
   "source": [
    "- In the API table, make sure the BigQuery API is enabled. Page back."
   ]
  },
  {
   "cell_type": "markdown",
   "metadata": {
    "colab_type": "text",
    "id": "FYjui9nrLFZC"
   },
   "source": [
    "### Authentication\n",
    "\n",
    "Go to https://cloud.google.com/docs/authentication/production and click the button to create a service account."
   ]
  },
  {
   "cell_type": "markdown",
   "metadata": {
    "colab_type": "text",
    "id": "OYryTo8SLFZE"
   },
   "source": [
    "- Fill out the form, giving the account an appropriate name, and choose \"Project Owner\" for Account Type.\n",
    "\n",
    "- Click \"Create\"."
   ]
  },
  {
   "cell_type": "markdown",
   "metadata": {
    "colab_type": "text",
    "id": "lUx6uvpALFZF"
   },
   "source": [
    "- The keys will get saved to your computer.\n",
    "\n",
    "- Note the location and copy the file path (of the json file) to somewhere safe, for future reference."
   ]
  },
  {
   "cell_type": "markdown",
   "metadata": {
    "colab_type": "text",
    "id": "DnYr6eJ-LFZH"
   },
   "source": [
    "- See here for more information:\n",
    "\n",
    "https://cloud.google.com/iam/docs/understanding-service-accounts?&_ga=2.173177830.-495703703.1532572448#managing_service_account_keys "
   ]
  },
  {
   "cell_type": "markdown",
   "metadata": {
    "colab_type": "text",
    "id": "pQKOrjk8LFZI"
   },
   "source": [
    "This is supposed to get implicit key retrieval working:\n",
    "\n",
    "- Windows:\n",
    "    `set GOOGLE_APPLICATION_CREDENTIALS=[PATH]`\n",
    "    \n",
    "- Linux, MacOS:\n",
    "    `export GOOGLE_APPLICATION_CREDENTIALS=[PATH]`\n",
    "    \n",
    "where `[PATH]` is the full file path of your json key file."
   ]
  },
  {
   "cell_type": "markdown",
   "metadata": {
    "colab_type": "text",
    "id": "5pvHgwVcLFZJ"
   },
   "source": [
    "### Using the Python API\n",
    "\n",
    "Google provides Python libraries for wrapping the Google APIs. For conda users, these are available on the \"conda-forge\" channel. (There are other Python libraries for Google APIs, possibly adding novel features or ease of use, but Google's is presumably the most current.)\n",
    "\n",
    "__(Installing the \"google-cloud-storage\" and \"google-cloud-bigquery\" libraries should cover all the dependences for this lab.)__ \n",
    "If you have not installed these modules, run `conda install -c conda-forge google-cloud-storage google-cloud-bigquery` in a Terminal (Mac/Linux) or if on Windows, Anaconda Prompt (Anaconda), and follow the prompts."
   ]
  },
  {
   "cell_type": "code",
   "execution_count": 1,
   "metadata": {},
   "outputs": [],
   "source": [
    "#!pip install google-cloud-storage"
   ]
  },
  {
   "cell_type": "code",
   "execution_count": 2,
   "metadata": {},
   "outputs": [],
   "source": [
    "#!pip install google-cloud-bigquery"
   ]
  },
  {
   "cell_type": "code",
   "execution_count": 61,
   "metadata": {
    "colab": {},
    "colab_type": "code",
    "id": "0o5eABcXLFZL"
   },
   "outputs": [],
   "source": [
    "from google.cloud import bigquery\n",
    "from google.cloud.bigquery import Dataset\n",
    "from google.cloud import storage\n",
    "import os\n",
    "os.environ['GOOGLE_APPLICATION_CREDENTIALS'] = 'C:/test.json'"
   ]
  },
  {
   "cell_type": "markdown",
   "metadata": {
    "colab_type": "text",
    "id": "olVeVnL_LFZO"
   },
   "source": [
    "If you have managed to get implicit key retrieval working, you can call `.Client()` with no argument:"
   ]
  },
  {
   "cell_type": "code",
   "execution_count": 62,
   "metadata": {
    "colab": {},
    "colab_type": "code",
    "id": "qR2cXGt4LFZP"
   },
   "outputs": [],
   "source": [
    "storage_client = storage.Client()"
   ]
  },
  {
   "cell_type": "markdown",
   "metadata": {
    "colab_type": "text",
    "id": "hHZQSxxqLFZR"
   },
   "source": [
    "If you aren't so lucky, you need to invoke a method of the `.Client` object that takes the path to your key files as a string argument:"
   ]
  },
  {
   "cell_type": "code",
   "execution_count": 63,
   "metadata": {
    "colab": {},
    "colab_type": "code",
    "id": "8nTBh0TvLFZR"
   },
   "outputs": [],
   "source": [
    "key_path = 'C:/test.json'  # put the path to your json key file here \n",
    "#,                    (or write code to load it from a file that your notebook can easily find)\n",
    "# key_path = 'C:/Users/allen/Documents/My Important Stuff/Key Pairs/myreallybigquery-3e3aa70941f0.json'"
   ]
  },
  {
   "cell_type": "markdown",
   "metadata": {
    "colab_type": "text",
    "id": "0XKIHVy8LFZT"
   },
   "source": [
    "This should not throw an error if key retrieval / assignemnt worked:"
   ]
  },
  {
   "cell_type": "code",
   "execution_count": 64,
   "metadata": {},
   "outputs": [],
   "source": [
    "os.environ['GOOGLE_APPLICATION_CREDENTIALS'] = 'C:/test.json'\n",
    "bigquery_client = bigquery.Client()"
   ]
  },
  {
   "cell_type": "code",
   "execution_count": 65,
   "metadata": {
    "colab": {},
    "colab_type": "code",
    "id": "gfqDJPU9LFZT"
   },
   "outputs": [],
   "source": [
    "storage_client = storage.Client.from_service_account_json(key_path)"
   ]
  },
  {
   "cell_type": "markdown",
   "metadata": {
    "colab_type": "text",
    "id": "Z1sntjgJLFZU"
   },
   "source": [
    "*Nb. The `storage` object was used in the above example, but there are other objects of interest that have polymorphic `Client` members that are used similarly, such as `bigquery`, which is used below.*"
   ]
  },
  {
   "cell_type": "markdown",
   "metadata": {
    "colab_type": "text",
    "id": "UBEZd1KiLFZV"
   },
   "source": [
    "IF implicit key retrieval is working for you, execute this:"
   ]
  },
  {
   "cell_type": "code",
   "execution_count": 66,
   "metadata": {
    "colab": {},
    "colab_type": "code",
    "id": "QL7DoAX7LFZV"
   },
   "outputs": [],
   "source": [
    "client = bigquery.Client()"
   ]
  },
  {
   "cell_type": "markdown",
   "metadata": {
    "colab_type": "text",
    "id": "zSA3wp7NLFZX"
   },
   "source": [
    "if not, execute this:"
   ]
  },
  {
   "cell_type": "code",
   "execution_count": 67,
   "metadata": {
    "colab": {},
    "colab_type": "code",
    "id": "ljcqTlxXLFZX"
   },
   "outputs": [],
   "source": [
    "# client = bigquery.Client.from_service_account_json(key_path)"
   ]
  },
  {
   "cell_type": "markdown",
   "metadata": {
    "colab_type": "text",
    "id": "kS1b8GXYLFZY"
   },
   "source": [
    "This client is associated with the default project (which was set or defaulted in the BigQuery UI): "
   ]
  },
  {
   "cell_type": "code",
   "execution_count": 68,
   "metadata": {
    "colab": {},
    "colab_type": "code",
    "id": "LflN4IlzLFZY"
   },
   "outputs": [
    {
     "data": {
      "text/plain": [
       "'new-project-314002'"
      ]
     },
     "execution_count": 68,
     "metadata": {},
     "output_type": "execute_result"
    }
   ],
   "source": [
    "client.project"
   ]
  },
  {
   "cell_type": "markdown",
   "metadata": {
    "colab_type": "text",
    "id": "BXQNVF1XLFZb"
   },
   "source": [
    "A BigQuery project contains datasets. Datasets contain tables. To get at the data in a table we need to create a reference that covers this hierarchy; in the `bigquery` library this looks like `project.dataset.table`.  \n",
    "\n",
    "(Nb. Queries can be performed on prjects and datasets, but most queries are performed on tables.)"
   ]
  },
  {
   "cell_type": "markdown",
   "metadata": {
    "colab_type": "text",
    "id": "fOtLSyBdLFZb"
   },
   "source": [
    "To explore the public datasets we will start by reassgining our `client` variable using optional `project` parameter (set to `bigquery-public-data`):"
   ]
  },
  {
   "cell_type": "code",
   "execution_count": 69,
   "metadata": {
    "colab": {},
    "colab_type": "code",
    "id": "SQTQ24whLFZc"
   },
   "outputs": [
    {
     "name": "stdout",
     "output_type": "stream",
     "text": [
      "bigquery-public-data\n"
     ]
    }
   ],
   "source": [
    "#project = 'bigquery-public-data'\n",
    "client = bigquery.Client.from_service_account_json(key_path, project = 'bigquery-public-data')\n",
    "print(client.project)"
   ]
  },
  {
   "cell_type": "markdown",
   "metadata": {
    "colab_type": "text",
    "id": "ZonWy10xLFZe"
   },
   "source": [
    "Here is how to get a list of the datasets in the current project:"
   ]
  },
  {
   "cell_type": "code",
   "execution_count": 70,
   "metadata": {
    "colab": {},
    "colab_type": "code",
    "id": "yQan0v1vLFZe"
   },
   "outputs": [
    {
     "name": "stdout",
     "output_type": "stream",
     "text": [
      "[<google.cloud.bigquery.dataset.DatasetListItem object at 0x0000016C21EB5E50>, <google.cloud.bigquery.dataset.DatasetListItem object at 0x0000016C21EB5130>, <google.cloud.bigquery.dataset.DatasetListItem object at 0x0000016C21E55AC0>, <google.cloud.bigquery.dataset.DatasetListItem object at 0x0000016C21E55F10>, <google.cloud.bigquery.dataset.DatasetListItem object at 0x0000016C21EBAAC0>, <google.cloud.bigquery.dataset.DatasetListItem object at 0x0000016C21EBAA00>, <google.cloud.bigquery.dataset.DatasetListItem object at 0x0000016C21EBAFA0>, <google.cloud.bigquery.dataset.DatasetListItem object at 0x0000016C21EBADF0>, <google.cloud.bigquery.dataset.DatasetListItem object at 0x0000016C21EBAB20>, <google.cloud.bigquery.dataset.DatasetListItem object at 0x0000016C21EA9E20>, <google.cloud.bigquery.dataset.DatasetListItem object at 0x0000016C21EA95E0>, <google.cloud.bigquery.dataset.DatasetListItem object at 0x0000016C21EA9910>, <google.cloud.bigquery.dataset.DatasetListItem object at 0x0000016C21EA9610>, <google.cloud.bigquery.dataset.DatasetListItem object at 0x0000016C21EA9400>, <google.cloud.bigquery.dataset.DatasetListItem object at 0x0000016C21EA9A60>, <google.cloud.bigquery.dataset.DatasetListItem object at 0x0000016C21EA9550>, <google.cloud.bigquery.dataset.DatasetListItem object at 0x0000016C21EA98E0>, <google.cloud.bigquery.dataset.DatasetListItem object at 0x0000016C21EA9040>, <google.cloud.bigquery.dataset.DatasetListItem object at 0x0000016C21EA9BB0>, <google.cloud.bigquery.dataset.DatasetListItem object at 0x0000016C21E8CD30>, <google.cloud.bigquery.dataset.DatasetListItem object at 0x0000016C21E8C970>, <google.cloud.bigquery.dataset.DatasetListItem object at 0x0000016C21E8C1C0>, <google.cloud.bigquery.dataset.DatasetListItem object at 0x0000016C21E8CA90>, <google.cloud.bigquery.dataset.DatasetListItem object at 0x0000016C21E8C490>, <google.cloud.bigquery.dataset.DatasetListItem object at 0x0000016C21E8CC10>, <google.cloud.bigquery.dataset.DatasetListItem object at 0x0000016C21E8C850>, <google.cloud.bigquery.dataset.DatasetListItem object at 0x0000016C5E1CCA90>, <google.cloud.bigquery.dataset.DatasetListItem object at 0x0000016C5E1CCAF0>, <google.cloud.bigquery.dataset.DatasetListItem object at 0x0000016C5E1CCFD0>, <google.cloud.bigquery.dataset.DatasetListItem object at 0x0000016C5E1D4BE0>, <google.cloud.bigquery.dataset.DatasetListItem object at 0x0000016C21E13D60>, <google.cloud.bigquery.dataset.DatasetListItem object at 0x0000016C21E13FD0>, <google.cloud.bigquery.dataset.DatasetListItem object at 0x0000016C21E13BB0>, <google.cloud.bigquery.dataset.DatasetListItem object at 0x0000016C21E13F10>, <google.cloud.bigquery.dataset.DatasetListItem object at 0x0000016C21E134C0>, <google.cloud.bigquery.dataset.DatasetListItem object at 0x0000016C21ECAB80>, <google.cloud.bigquery.dataset.DatasetListItem object at 0x0000016C21ECA9A0>, <google.cloud.bigquery.dataset.DatasetListItem object at 0x0000016C21ECA2E0>, <google.cloud.bigquery.dataset.DatasetListItem object at 0x0000016C21ECA100>, <google.cloud.bigquery.dataset.DatasetListItem object at 0x0000016C21ECA040>, <google.cloud.bigquery.dataset.DatasetListItem object at 0x0000016C21ECA1F0>, <google.cloud.bigquery.dataset.DatasetListItem object at 0x0000016C21ECA1C0>, <google.cloud.bigquery.dataset.DatasetListItem object at 0x0000016C21ECA610>, <google.cloud.bigquery.dataset.DatasetListItem object at 0x0000016C21EE2250>, <google.cloud.bigquery.dataset.DatasetListItem object at 0x0000016C21EE2850>, <google.cloud.bigquery.dataset.DatasetListItem object at 0x0000016C21EE22B0>, <google.cloud.bigquery.dataset.DatasetListItem object at 0x0000016C21EE2A30>, <google.cloud.bigquery.dataset.DatasetListItem object at 0x0000016C21EE2070>, <google.cloud.bigquery.dataset.DatasetListItem object at 0x0000016C21EE22E0>, <google.cloud.bigquery.dataset.DatasetListItem object at 0x0000016C21EE29A0>, <google.cloud.bigquery.dataset.DatasetListItem object at 0x0000016C21EB53A0>, <google.cloud.bigquery.dataset.DatasetListItem object at 0x0000016C21EE2B50>, <google.cloud.bigquery.dataset.DatasetListItem object at 0x0000016C21EE21F0>, <google.cloud.bigquery.dataset.DatasetListItem object at 0x0000016C21EE2490>, <google.cloud.bigquery.dataset.DatasetListItem object at 0x0000016C21EE2790>, <google.cloud.bigquery.dataset.DatasetListItem object at 0x0000016C21EE2E20>, <google.cloud.bigquery.dataset.DatasetListItem object at 0x0000016C21EE2E80>, <google.cloud.bigquery.dataset.DatasetListItem object at 0x0000016C21EE2610>, <google.cloud.bigquery.dataset.DatasetListItem object at 0x0000016C21EE26A0>, <google.cloud.bigquery.dataset.DatasetListItem object at 0x0000016C21EA9190>, <google.cloud.bigquery.dataset.DatasetListItem object at 0x0000016C5E1DFE80>, <google.cloud.bigquery.dataset.DatasetListItem object at 0x0000016C5E1DF3D0>, <google.cloud.bigquery.dataset.DatasetListItem object at 0x0000016C5E1DFBB0>, <google.cloud.bigquery.dataset.DatasetListItem object at 0x0000016C5E1DF9D0>, <google.cloud.bigquery.dataset.DatasetListItem object at 0x0000016C5E1DF820>, <google.cloud.bigquery.dataset.DatasetListItem object at 0x0000016C5E1DF490>, <google.cloud.bigquery.dataset.DatasetListItem object at 0x0000016C5E1DFE50>, <google.cloud.bigquery.dataset.DatasetListItem object at 0x0000016C5E1DFEE0>, <google.cloud.bigquery.dataset.DatasetListItem object at 0x0000016C5E1DFD00>, <google.cloud.bigquery.dataset.DatasetListItem object at 0x0000016C21E2DCD0>, <google.cloud.bigquery.dataset.DatasetListItem object at 0x0000016C21E2D490>, <google.cloud.bigquery.dataset.DatasetListItem object at 0x0000016C21E2DBB0>, <google.cloud.bigquery.dataset.DatasetListItem object at 0x0000016C21E2DC10>, <google.cloud.bigquery.dataset.DatasetListItem object at 0x0000016C21E2DA90>, <google.cloud.bigquery.dataset.DatasetListItem object at 0x0000016C21E2D4F0>, <google.cloud.bigquery.dataset.DatasetListItem object at 0x0000016C21E2DD00>, <google.cloud.bigquery.dataset.DatasetListItem object at 0x0000016C21E2DDC0>, <google.cloud.bigquery.dataset.DatasetListItem object at 0x0000016C21E2DA30>, <google.cloud.bigquery.dataset.DatasetListItem object at 0x0000016C21E2DD90>, <google.cloud.bigquery.dataset.DatasetListItem object at 0x0000016C21E2DEE0>, <google.cloud.bigquery.dataset.DatasetListItem object at 0x0000016C21E2DF10>, <google.cloud.bigquery.dataset.DatasetListItem object at 0x0000016C21E2D370>, <google.cloud.bigquery.dataset.DatasetListItem object at 0x0000016C21E2D3D0>, <google.cloud.bigquery.dataset.DatasetListItem object at 0x0000016C21E2D5B0>, <google.cloud.bigquery.dataset.DatasetListItem object at 0x0000016C21E2D220>, <google.cloud.bigquery.dataset.DatasetListItem object at 0x0000016C21E2D250>, <google.cloud.bigquery.dataset.DatasetListItem object at 0x0000016C21D44220>, <google.cloud.bigquery.dataset.DatasetListItem object at 0x0000016C21E45280>, <google.cloud.bigquery.dataset.DatasetListItem object at 0x0000016C21E45460>, <google.cloud.bigquery.dataset.DatasetListItem object at 0x0000016C21E459D0>, <google.cloud.bigquery.dataset.DatasetListItem object at 0x0000016C21E45A30>, <google.cloud.bigquery.dataset.DatasetListItem object at 0x0000016C21E45BB0>, <google.cloud.bigquery.dataset.DatasetListItem object at 0x0000016C21E45BE0>, <google.cloud.bigquery.dataset.DatasetListItem object at 0x0000016C21E45B20>, <google.cloud.bigquery.dataset.DatasetListItem object at 0x0000016C21E45CD0>, <google.cloud.bigquery.dataset.DatasetListItem object at 0x0000016C21E45D30>, <google.cloud.bigquery.dataset.DatasetListItem object at 0x0000016C21E45D90>, <google.cloud.bigquery.dataset.DatasetListItem object at 0x0000016C21E45F10>, <google.cloud.bigquery.dataset.DatasetListItem object at 0x0000016C21E45EB0>, <google.cloud.bigquery.dataset.DatasetListItem object at 0x0000016C21E458B0>, <google.cloud.bigquery.dataset.DatasetListItem object at 0x0000016C21EE2910>, <google.cloud.bigquery.dataset.DatasetListItem object at 0x0000016C21E458E0>, <google.cloud.bigquery.dataset.DatasetListItem object at 0x0000016C21E457C0>, <google.cloud.bigquery.dataset.DatasetListItem object at 0x0000016C21E45610>, <google.cloud.bigquery.dataset.DatasetListItem object at 0x0000016C21E45700>, <google.cloud.bigquery.dataset.DatasetListItem object at 0x0000016C21E45670>, <google.cloud.bigquery.dataset.DatasetListItem object at 0x0000016C21E45520>, <google.cloud.bigquery.dataset.DatasetListItem object at 0x0000016C21E456A0>, <google.cloud.bigquery.dataset.DatasetListItem object at 0x0000016C21E454C0>, <google.cloud.bigquery.dataset.DatasetListItem object at 0x0000016C21E45580>, <google.cloud.bigquery.dataset.DatasetListItem object at 0x0000016C21E45820>, <google.cloud.bigquery.dataset.DatasetListItem object at 0x0000016C21E45640>, <google.cloud.bigquery.dataset.DatasetListItem object at 0x0000016C21E454F0>, <google.cloud.bigquery.dataset.DatasetListItem object at 0x0000016C21E45E20>, <google.cloud.bigquery.dataset.DatasetListItem object at 0x0000016C230FF040>, <google.cloud.bigquery.dataset.DatasetListItem object at 0x0000016C230FF070>, <google.cloud.bigquery.dataset.DatasetListItem object at 0x0000016C230FF130>, <google.cloud.bigquery.dataset.DatasetListItem object at 0x0000016C230FF1C0>, <google.cloud.bigquery.dataset.DatasetListItem object at 0x0000016C230FF160>, <google.cloud.bigquery.dataset.DatasetListItem object at 0x0000016C230FF250>, <google.cloud.bigquery.dataset.DatasetListItem object at 0x0000016C230FF2B0>, <google.cloud.bigquery.dataset.DatasetListItem object at 0x0000016C230FF310>, <google.cloud.bigquery.dataset.DatasetListItem object at 0x0000016C230FF370>, <google.cloud.bigquery.dataset.DatasetListItem object at 0x0000016C230FF3D0>, <google.cloud.bigquery.dataset.DatasetListItem object at 0x0000016C230FF430>, <google.cloud.bigquery.dataset.DatasetListItem object at 0x0000016C230FF490>, <google.cloud.bigquery.dataset.DatasetListItem object at 0x0000016C230FF4F0>, <google.cloud.bigquery.dataset.DatasetListItem object at 0x0000016C230FF550>, <google.cloud.bigquery.dataset.DatasetListItem object at 0x0000016C230FF5B0>, <google.cloud.bigquery.dataset.DatasetListItem object at 0x0000016C230FF610>, <google.cloud.bigquery.dataset.DatasetListItem object at 0x0000016C230FF670>, <google.cloud.bigquery.dataset.DatasetListItem object at 0x0000016C230FF6D0>, <google.cloud.bigquery.dataset.DatasetListItem object at 0x0000016C230FF730>, <google.cloud.bigquery.dataset.DatasetListItem object at 0x0000016C230FF790>, <google.cloud.bigquery.dataset.DatasetListItem object at 0x0000016C230FF7F0>, <google.cloud.bigquery.dataset.DatasetListItem object at 0x0000016C230FF850>, <google.cloud.bigquery.dataset.DatasetListItem object at 0x0000016C230FF8B0>, <google.cloud.bigquery.dataset.DatasetListItem object at 0x0000016C230FF910>, <google.cloud.bigquery.dataset.DatasetListItem object at 0x0000016C230FF970>, <google.cloud.bigquery.dataset.DatasetListItem object at 0x0000016C230FF9D0>, <google.cloud.bigquery.dataset.DatasetListItem object at 0x0000016C230FFA30>, <google.cloud.bigquery.dataset.DatasetListItem object at 0x0000016C230FFA90>, <google.cloud.bigquery.dataset.DatasetListItem object at 0x0000016C230FFAF0>, <google.cloud.bigquery.dataset.DatasetListItem object at 0x0000016C230FFB50>, <google.cloud.bigquery.dataset.DatasetListItem object at 0x0000016C230FFBB0>, <google.cloud.bigquery.dataset.DatasetListItem object at 0x0000016C230FFC10>, <google.cloud.bigquery.dataset.DatasetListItem object at 0x0000016C230FFC70>, <google.cloud.bigquery.dataset.DatasetListItem object at 0x0000016C230FFCD0>, <google.cloud.bigquery.dataset.DatasetListItem object at 0x0000016C230FFD30>, <google.cloud.bigquery.dataset.DatasetListItem object at 0x0000016C230FFD90>, <google.cloud.bigquery.dataset.DatasetListItem object at 0x0000016C21E459A0>, <google.cloud.bigquery.dataset.DatasetListItem object at 0x0000016C230FFE20>, <google.cloud.bigquery.dataset.DatasetListItem object at 0x0000016C230FFF10>, <google.cloud.bigquery.dataset.DatasetListItem object at 0x0000016C230FFF40>, <google.cloud.bigquery.dataset.DatasetListItem object at 0x0000016C230FFEE0>, <google.cloud.bigquery.dataset.DatasetListItem object at 0x0000016C230FFFA0>, <google.cloud.bigquery.dataset.DatasetListItem object at 0x0000016C23118040>, <google.cloud.bigquery.dataset.DatasetListItem object at 0x0000016C23118100>, <google.cloud.bigquery.dataset.DatasetListItem object at 0x0000016C23118160>, <google.cloud.bigquery.dataset.DatasetListItem object at 0x0000016C23118220>, <google.cloud.bigquery.dataset.DatasetListItem object at 0x0000016C231180A0>, <google.cloud.bigquery.dataset.DatasetListItem object at 0x0000016C23118250>, <google.cloud.bigquery.dataset.DatasetListItem object at 0x0000016C231183A0>, <google.cloud.bigquery.dataset.DatasetListItem object at 0x0000016C231184C0>, <google.cloud.bigquery.dataset.DatasetListItem object at 0x0000016C23118310>, <google.cloud.bigquery.dataset.DatasetListItem object at 0x0000016C23118400>, <google.cloud.bigquery.dataset.DatasetListItem object at 0x0000016C23118460>, <google.cloud.bigquery.dataset.DatasetListItem object at 0x0000016C231182B0>, <google.cloud.bigquery.dataset.DatasetListItem object at 0x0000016C23118070>, <google.cloud.bigquery.dataset.DatasetListItem object at 0x0000016C23118550>, <google.cloud.bigquery.dataset.DatasetListItem object at 0x0000016C231185B0>, <google.cloud.bigquery.dataset.DatasetListItem object at 0x0000016C23118610>, <google.cloud.bigquery.dataset.DatasetListItem object at 0x0000016C23118670>, <google.cloud.bigquery.dataset.DatasetListItem object at 0x0000016C231186D0>]\n"
     ]
    }
   ],
   "source": [
    "datasets = list(client.list_datasets())\n",
    "print(datasets)"
   ]
  },
  {
   "cell_type": "markdown",
   "metadata": {
    "colab_type": "text",
    "id": "_UoYS4suLFZg"
   },
   "source": [
    "That wasn't helpful. We need to go deeper into the object structure to get at something meaningful. Actually, the `dataset_id` member contains the name attribute of a `dataset` object; write some code to print that name for each member of the list that was created above:"
   ]
  },
  {
   "cell_type": "code",
   "execution_count": 71,
   "metadata": {
    "colab": {},
    "colab_type": "code",
    "id": "MBV3-c21LFZi"
   },
   "outputs": [
    {
     "name": "stdout",
     "output_type": "stream",
     "text": [
      "baseball\n"
     ]
    }
   ],
   "source": [
    "print(datasets[5].dataset_id)"
   ]
  },
  {
   "cell_type": "markdown",
   "metadata": {
    "colab_type": "text",
    "id": "1VKuobUSLFZk"
   },
   "source": [
    "The google API objects in the `bigquery` library have their own overloads of the format() function that make them easier to read. Below is a function that exploits the `format` method of `project` and `dataset_id`, providing an easy way to list datasets:"
   ]
  },
  {
   "cell_type": "code",
   "execution_count": 72,
   "metadata": {
    "colab": {},
    "colab_type": "code",
    "id": "obqd0X0vLFZl"
   },
   "outputs": [],
   "source": [
    "# function for listing datasets in a project:\n",
    "def printDatasetList(client):\n",
    "    project = client.project    #: only one project can be associated with a client instance\n",
    "    datasets = list(client.list_datasets())\n",
    "    if datasets:\n",
    "        print('Datasets in project {}:'.format(project))\n",
    "        for dataset in datasets:  \n",
    "            print('\\t{}'.format(dataset.dataset_id))\n",
    "        found = True\n",
    "    else:\n",
    "        print('{} project does not contain any datasets.'.format(project))\n",
    "        found = False\n",
    "    return found"
   ]
  },
  {
   "cell_type": "code",
   "execution_count": 73,
   "metadata": {
    "colab": {},
    "colab_type": "code",
    "id": "TcS8DXenLFZn"
   },
   "outputs": [
    {
     "name": "stdout",
     "output_type": "stream",
     "text": [
      "Datasets in project bigquery-public-data:\n",
      "\taustin_311\n",
      "\taustin_bikeshare\n",
      "\taustin_crime\n",
      "\taustin_incidents\n",
      "\taustin_waste\n",
      "\tbaseball\n",
      "\tbitcoin_blockchain\n",
      "\tblackhole_database\n",
      "\tbls\n",
      "\tbls_qcew\n",
      "\tbreathe\n",
      "\tbroadstreet_adi\n",
      "\tcatalonian_mobile_coverage\n",
      "\tcatalonian_mobile_coverage_eu\n",
      "\tcensus_bureau_acs\n",
      "\tcensus_bureau_construction\n",
      "\tcensus_bureau_international\n",
      "\tcensus_bureau_usa\n",
      "\tcensus_utility\n",
      "\tcfpb_complaints\n",
      "\tchicago_crime\n",
      "\tchicago_taxi_trips\n",
      "\tcloud_storage_geo_index\n",
      "\tcms_codes\n",
      "\tcms_medicare\n",
      "\tcms_synthetic_patient_data_omop\n",
      "\tcovid19_aha\n",
      "\tcovid19_ecdc\n",
      "\tcovid19_ecdc_eu\n",
      "\tcovid19_geotab_mobility_impact\n",
      "\tcovid19_geotab_mobility_impact_eu\n",
      "\tcovid19_google_mobility\n",
      "\tcovid19_google_mobility_eu\n",
      "\tcovid19_govt_response\n",
      "\tcovid19_italy\n",
      "\tcovid19_italy_eu\n",
      "\tcovid19_jhu_csse\n",
      "\tcovid19_jhu_csse_eu\n",
      "\tcovid19_nyt\n",
      "\tcovid19_open_data\n",
      "\tcovid19_open_data_eu\n",
      "\tcovid19_public_forecasts\n",
      "\tcovid19_public_forecasts_asia_ne1\n",
      "\tcovid19_rxrx19\n",
      "\tcovid19_symptom_search\n",
      "\tcovid19_tracking\n",
      "\tcovid19_usafacts\n",
      "\tcovid19_vaccination_access\n",
      "\tcovid19_vaccination_search_insights\n",
      "\tcovid19_weathersource_com\n",
      "\tcrypto_bitcoin\n",
      "\tcrypto_bitcoin_cash\n",
      "\tcrypto_dash\n",
      "\tcrypto_dogecoin\n",
      "\tcrypto_ethereum\n",
      "\tcrypto_ethereum_classic\n",
      "\tcrypto_litecoin\n",
      "\tcrypto_zcash\n",
      "\tcymbal_investments\n",
      "\teclipse_megamovie\n",
      "\tepa_historical_air_quality\n",
      "\tethereum_blockchain\n",
      "\tfaa\n",
      "\tfcc_political_ads\n",
      "\tfda_drug\n",
      "\tfda_food\n",
      "\tfdic_banks\n",
      "\tfec\n",
      "\tfhir_synthea\n",
      "\tgenomics_cannabis\n",
      "\tgenomics_rice\n",
      "\tgeo_census_blockgroups\n",
      "\tgeo_census_tracts\n",
      "\tgeo_international_ports\n",
      "\tgeo_openstreetmap\n",
      "\tgeo_us_boundaries\n",
      "\tgeo_us_census_places\n",
      "\tgeo_us_roads\n",
      "\tgeo_whos_on_first\n",
      "\tghcn_d\n",
      "\tghcn_m\n",
      "\tgithub_repos\n",
      "\tgnomAD\n",
      "\tgnomAD_asiane1\n",
      "\tgnomAD_eu\n",
      "\tgoogle_ads\n",
      "\tgoogle_analytics_sample\n",
      "\tgoogle_dei\n",
      "\tgoogle_political_ads\n",
      "\tgoogle_trends\n",
      "\thacker_news\n",
      "\thud_zipcode_crosswalk\n",
      "\thuman_genome_variants\n",
      "\thuman_variant_annotation\n",
      "\timmune_epitope_db\n",
      "\tiowa_liquor_sales\n",
      "\tiowa_liquor_sales_forecasting\n",
      "\tirs_990\n",
      "\tlabeled_patents\n",
      "\tlibraries_io\n",
      "\tlondon_bicycles\n",
      "\tlondon_crime\n",
      "\tlondon_fire_brigade\n",
      "\tmedicare\n",
      "\tml_datasets\n",
      "\tmoon_phases\n",
      "\tnasa_wildfire\n",
      "\tncaa_basketball\n",
      "\tnew_york\n",
      "\tnew_york_311\n",
      "\tnew_york_citibike\n",
      "\tnew_york_mv_collisions\n",
      "\tnew_york_subway\n",
      "\tnew_york_taxi_trips\n",
      "\tnew_york_trees\n",
      "\tnhtsa_traffic_fatalities\n",
      "\tnih_gudid\n",
      "\tnih_sequence_read\n",
      "\tnlm_rxnorm\n",
      "\tnoaa_goes16\n",
      "\tnoaa_goes17\n",
      "\tnoaa_gsod\n",
      "\tnoaa_historic_severe_storms\n",
      "\tnoaa_hurricanes\n",
      "\tnoaa_icoads\n",
      "\tnoaa_lightning\n",
      "\tnoaa_passive_acoustic_index\n",
      "\tnoaa_pifsc_metadata\n",
      "\tnoaa_preliminary_severe_storms\n",
      "\tnoaa_significant_earthquakes\n",
      "\tnoaa_tsunami\n",
      "\tnppes\n",
      "\topen_images\n",
      "\topenaq\n",
      "\tpersistent_udfs\n",
      "\tpypi\n",
      "\tsafegraph\n",
      "\tsamples\n",
      "\tsan_francisco\n",
      "\tsan_francisco_311\n",
      "\tsan_francisco_bikeshare\n",
      "\tsan_francisco_film_locations\n",
      "\tsan_francisco_neighborhoods\n",
      "\tsan_francisco_sffd_service_calls\n",
      "\tsan_francisco_sfpd_incidents\n",
      "\tsan_francisco_transit_muni\n",
      "\tsan_francisco_trees\n",
      "\tsdoh_bea_cainc30\n",
      "\tsdoh_cdc_wonder_natality\n",
      "\tsdoh_cms_dual_eligible_enrollment\n",
      "\tsdoh_hrsa_shortage_areas\n",
      "\tsdoh_hud_housing\n",
      "\tsdoh_hud_pit_homelessness\n",
      "\tsdoh_snap_enrollment\n",
      "\tsec_quarterly_financials\n",
      "\tstackoverflow\n",
      "\tsunroof_solar\n",
      "\tthe_met\n",
      "\tumiami_lincs\n",
      "\tun_sdg\n",
      "\tusa_names\n",
      "\tusda_nass_agriculture\n",
      "\tusfs_fia\n",
      "\tutility_eu\n",
      "\tutility_us\n",
      "\twikipedia\n",
      "\twise_all_sky_data_release\n",
      "\twords\n",
      "\tworld_bank_global_population\n",
      "\tworld_bank_health_population\n",
      "\tworld_bank_intl_debt\n",
      "\tworld_bank_intl_education\n",
      "\tworld_bank_wdi\n",
      "\tworldpop\n"
     ]
    }
   ],
   "source": [
    "# list datasets in the default project:\n",
    "flag = printDatasetList(client)  #: assigning to `flag` suppresses printing the return value (normally `True`)"
   ]
  },
  {
   "cell_type": "markdown",
   "metadata": {
    "colab_type": "text",
    "id": "81uawTW5LFZo"
   },
   "source": [
    "This list should correspond to what is shown here https://bigquery.cloud.google.com/publicdatasets under the **bigquery-public-data** item."
   ]
  },
  {
   "cell_type": "markdown",
   "metadata": {
    "colab_type": "text",
    "id": "bEAfjVxOLFZo"
   },
   "source": [
    "Here is how to create a dataset reference object by assigning a project and a dataset name:"
   ]
  },
  {
   "cell_type": "code",
   "execution_count": 74,
   "metadata": {
    "colab": {},
    "colab_type": "code",
    "id": "ZrSaLIkWLFZo"
   },
   "outputs": [],
   "source": [
    "client = bigquery.Client()\n",
    "dataset_id = 'samples'\n",
    "dataset_ref = client.dataset(dataset_id)"
   ]
  },
  {
   "cell_type": "markdown",
   "metadata": {
    "colab_type": "text",
    "id": "5BlLbSA7LFZp"
   },
   "source": [
    "If our current project was something other than `bigquery-public-data`, we could still create this reference by specifying the project that contains the dataset:"
   ]
  },
  {
   "cell_type": "code",
   "execution_count": 75,
   "metadata": {
    "colab": {},
    "colab_type": "code",
    "id": "NJK5yM9BLFZq"
   },
   "outputs": [],
   "source": [
    "dataset_id = 'samples'\n",
    "dataset_ref = client.dataset(dataset_id, project = 'bigquery-public-data')"
   ]
  },
  {
   "cell_type": "markdown",
   "metadata": {
    "colab_type": "text",
    "id": "6_fYqMyGLFZr"
   },
   "source": [
    "How can we get the path of the dataset?"
   ]
  },
  {
   "cell_type": "code",
   "execution_count": 76,
   "metadata": {
    "colab": {},
    "colab_type": "code",
    "id": "otqzZohpLFZs"
   },
   "outputs": [
    {
     "name": "stdout",
     "output_type": "stream",
     "text": [
      "/projects/bigquery-public-data/datasets/samples\n"
     ]
    }
   ],
   "source": [
    "\n",
    "print(dataset_ref.path)"
   ]
  },
  {
   "cell_type": "markdown",
   "metadata": {
    "colab_type": "text",
    "id": "dRzK-hTuLFZt"
   },
   "source": [
    "Explore more of this object's members:\n",
    "\n",
    "*(HINT: Jupyter Notebooks does not support code completion, but Spyder and other Python IDEs do. If you copy all the above code to a Python file within the IDE, you can type `dataset_ref.` in a new line, then hit the [Tab] key to see the available members for the object.)*"
   ]
  },
  {
   "cell_type": "code",
   "execution_count": 77,
   "metadata": {
    "colab": {},
    "colab_type": "code",
    "id": "s9HM7PiMLFZt"
   },
   "outputs": [
    {
     "name": "stdout",
     "output_type": "stream",
     "text": [
      "<bound method _get_table_reference of DatasetReference('bigquery-public-data', 'samples')>\n"
     ]
    }
   ],
   "source": [
    "\n",
    "print(dataset_ref.table)"
   ]
  },
  {
   "cell_type": "markdown",
   "metadata": {
    "colab_type": "text",
    "id": "NZB6yeerLFZu"
   },
   "source": [
    "Here is a function for listing the tables in a dataset: "
   ]
  },
  {
   "cell_type": "code",
   "execution_count": 80,
   "metadata": {
    "colab": {},
    "colab_type": "code",
    "id": "_E5S-MhtLFZu"
   },
   "outputs": [],
   "source": [
    "# function for listing tables in a dataset:\n",
    "def printTableList(client, dataset_id):\n",
    "    project = client.project\n",
    "    dataset_ref = client.dataset(dataset_id, project = project)    \n",
    "    tables = list(client.list_tables(dataset_ref))\n",
    "    if tables:\n",
    "        print('Tables in dataset {}:'.format(dataset_id))\n",
    "        for table in tables: \n",
    "            print('\\t{}'.format(table.table_id))\n",
    "        found = True\n",
    "    else:\n",
    "        print('{} dataset does not contain any tables.'.format(dataset_id))\n",
    "        found = False\n",
    "    return found"
   ]
  },
  {
   "cell_type": "markdown",
   "metadata": {
    "colab_type": "text",
    "id": "ksp2VbNcLFZv"
   },
   "source": [
    "Use this function to list the tables in the current dataset:"
   ]
  },
  {
   "cell_type": "code",
   "execution_count": 84,
   "metadata": {
    "colab": {},
    "colab_type": "code",
    "id": "F2KEisFzLFZv"
   },
   "outputs": [],
   "source": [
    "#printTableList(client, dataset_id)"
   ]
  },
  {
   "cell_type": "markdown",
   "metadata": {
    "colab_type": "text",
    "id": "XoZPwFx1LFZx"
   },
   "source": [
    "To create a reference to a table within the dataset, we use the `table_id` attribute:"
   ]
  },
  {
   "cell_type": "code",
   "execution_count": 40,
   "metadata": {
    "colab": {},
    "colab_type": "code",
    "id": "rYXUHik0LFZx"
   },
   "outputs": [],
   "source": [
    "table_id = 'shakespeare'\n",
    "table_ref = dataset_ref.table(table_id)"
   ]
  },
  {
   "cell_type": "markdown",
   "metadata": {
    "colab_type": "text",
    "id": "3MZOaAuiLFZy"
   },
   "source": [
    "Check the name of the table that `table_ref` now points to:"
   ]
  },
  {
   "cell_type": "code",
   "execution_count": 41,
   "metadata": {
    "colab": {},
    "colab_type": "code",
    "id": "6B9AAg4tLFZz"
   },
   "outputs": [
    {
     "data": {
      "text/plain": [
       "'/projects/bigquery-public-data/datasets/samples/tables/shakespeare'"
      ]
     },
     "execution_count": 41,
     "metadata": {},
     "output_type": "execute_result"
    }
   ],
   "source": [
    "#?\n",
    "table_ref.path"
   ]
  },
  {
   "cell_type": "markdown",
   "metadata": {
    "colab_type": "text",
    "id": "gOo7O5lVLFZ0"
   },
   "source": [
    "To access the data in the table itself, we use the `get_table()` method:"
   ]
  },
  {
   "cell_type": "code",
   "execution_count": 42,
   "metadata": {
    "colab": {},
    "colab_type": "code",
    "id": "rjnXTIoULFZ0"
   },
   "outputs": [],
   "source": [
    "table = client.get_table(table_ref)  # API Request"
   ]
  },
  {
   "cell_type": "markdown",
   "metadata": {
    "colab_type": "text",
    "id": "Ggy5pIrYLFZ2"
   },
   "source": [
    "NOTE: The contents of the table are not actually in our memory after this call! We are working with a Big Data platform, now, and we could easily end up pulling GBs or TBs of data by accident. \n",
    "\n",
    "To minimise data bandwidth, memory consumption, and processing time, Big Data platforms employ ***lazy evaluation***. This means that no computation or data transfer actually takes place until we *realise* (use) the data. Even if we execute subsequent code that performs calculations on the data, no data flow or computation actually occurs until we request output (e.g. by executing a print to stdout or writing to a file). "
   ]
  },
  {
   "cell_type": "markdown",
   "metadata": {
    "colab_type": "text",
    "id": "5Sa9uV6tLFZ2"
   },
   "source": [
    "What kind (type) of object is returned by `client.get_table`?"
   ]
  },
  {
   "cell_type": "code",
   "execution_count": 43,
   "metadata": {
    "colab": {},
    "colab_type": "code",
    "id": "cdmNEp6ZLFZ3"
   },
   "outputs": [
    {
     "data": {
      "text/plain": [
       "method"
      ]
     },
     "execution_count": 43,
     "metadata": {},
     "output_type": "execute_result"
    }
   ],
   "source": [
    "#?\n",
    "type(client.get_table)"
   ]
  },
  {
   "cell_type": "markdown",
   "metadata": {
    "colab_type": "text",
    "id": "rcaJMPCNLFZ4"
   },
   "source": [
    "How can we view the design of the table (column names and types? The name of the object attribute we need is the same term we learned in the module on databases:"
   ]
  },
  {
   "cell_type": "code",
   "execution_count": 44,
   "metadata": {
    "colab": {},
    "colab_type": "code",
    "id": "gt4FQZ88LFZ4"
   },
   "outputs": [
    {
     "name": "stdout",
     "output_type": "stream",
     "text": [
      "[SchemaField('word', 'STRING', 'REQUIRED', 'A single unique word (where whitespace is the delimiter) extracted from a corpus.', (), None), SchemaField('word_count', 'INTEGER', 'REQUIRED', 'The number of times this word appears in this corpus.', (), None), SchemaField('corpus', 'STRING', 'REQUIRED', 'The work from which this word was extracted.', (), None), SchemaField('corpus_date', 'INTEGER', 'REQUIRED', 'The year in which this corpus was published.', (), None)]\n"
     ]
    }
   ],
   "source": [
    "#?\n",
    "print(table.schema)"
   ]
  },
  {
   "cell_type": "markdown",
   "metadata": {
    "colab_type": "text",
    "id": "FfaKrQRSLFZ6"
   },
   "source": [
    "Again, this is messy. If we wanted to refer to the column names and types in code, we might use something like this (which we could then parse into a dict):"
   ]
  },
  {
   "cell_type": "code",
   "execution_count": 45,
   "metadata": {
    "colab": {},
    "colab_type": "code",
    "id": "8187Fu57LFZ6"
   },
   "outputs": [
    {
     "name": "stdout",
     "output_type": "stream",
     "text": [
      "['word STRING', 'word_count INTEGER', 'corpus STRING', 'corpus_date INTEGER']\n"
     ]
    }
   ],
   "source": [
    "result = [\"{0} {1}\".format(schema.name,schema.field_type) for schema in table.schema]\n",
    "print(result)"
   ]
  },
  {
   "cell_type": "markdown",
   "metadata": {
    "colab_type": "text",
    "id": "ZQz7xhfwLFZ7"
   },
   "source": [
    "But if we just want to print them, here is another neat function for that:"
   ]
  },
  {
   "cell_type": "code",
   "execution_count": 46,
   "metadata": {
    "colab": {},
    "colab_type": "code",
    "id": "_LqvAXo3LFZ7"
   },
   "outputs": [],
   "source": [
    "# function to print a table schema:\n",
    "def printTableSchema(aTable):\n",
    "    schemas = list(aTable.schema)\n",
    "    if schemas:\n",
    "        print('Table schema for {}:'.format(aTable.table_id))\n",
    "        for aSchema in schemas:\n",
    "            print('\\t{0} {1}'.format(aSchema.name, aSchema.field_type))\n",
    "        found = True\n",
    "    else:\n",
    "        found = False\n",
    "    return found"
   ]
  },
  {
   "cell_type": "markdown",
   "metadata": {
    "colab_type": "text",
    "id": "SROTDIm8LFZ8"
   },
   "source": [
    "Use this function to print the table schema:"
   ]
  },
  {
   "cell_type": "code",
   "execution_count": 47,
   "metadata": {
    "colab": {},
    "colab_type": "code",
    "id": "DpmWRmXmLFZ9"
   },
   "outputs": [
    {
     "name": "stdout",
     "output_type": "stream",
     "text": [
      "Table schema for shakespeare:\n",
      "\tword STRING\n",
      "\tword_count INTEGER\n",
      "\tcorpus STRING\n",
      "\tcorpus_date INTEGER\n"
     ]
    },
    {
     "data": {
      "text/plain": [
       "True"
      ]
     },
     "execution_count": 47,
     "metadata": {},
     "output_type": "execute_result"
    }
   ],
   "source": [
    "#?\n",
    "printTableSchema(table)"
   ]
  },
  {
   "cell_type": "markdown",
   "metadata": {
    "colab_type": "text",
    "id": "Q1YugUUhLFZ-"
   },
   "source": [
    "Now that we know what the columns are, we can write queries. Actually, we construct a query job by assigning an SQL statement to a method of the `client` object:"
   ]
  },
  {
   "cell_type": "code",
   "execution_count": 48,
   "metadata": {
    "colab": {},
    "colab_type": "code",
    "id": "Gq7cGALfLFZ-"
   },
   "outputs": [],
   "source": [
    "sql = \"SELECT COUNT(1) FROM `bigquery-public-data.samples.shakespeare`\"\n",
    "query_job = client.query(sql)"
   ]
  },
  {
   "cell_type": "markdown",
   "metadata": {
    "colab_type": "text",
    "id": "DJVssU3mLFZ_"
   },
   "source": [
    "Why does this throw an error?"
   ]
  },
  {
   "cell_type": "markdown",
   "metadata": {
    "colab_type": "text",
    "id": "4feq3JaqLFZ_"
   },
   "source": [
    "ANSWER: \n",
    "\n",
    "The above did not throw any error..\n",
    "\n",
    "So, what can we do?"
   ]
  },
  {
   "cell_type": "code",
   "execution_count": 90,
   "metadata": {
    "colab": {},
    "colab_type": "code",
    "id": "hCVH3AxrLFaA"
   },
   "outputs": [],
   "source": [
    "#?\n",
    "# client = bigquery.Client.from_service_account_json(key_path, project = 'bigquery-public-data')\n",
    "# query_job = client.query(sql)"
   ]
  },
  {
   "cell_type": "markdown",
   "metadata": {
    "colab_type": "text",
    "id": "TTfuF8J0LFaA"
   },
   "source": [
    "If that worked, show what type query_job is:"
   ]
  },
  {
   "cell_type": "code",
   "execution_count": 51,
   "metadata": {
    "colab": {},
    "colab_type": "code",
    "id": "ZmiGhS0ALFaA"
   },
   "outputs": [
    {
     "data": {
      "text/plain": [
       "google.cloud.bigquery.job.query.QueryJob"
      ]
     },
     "execution_count": 51,
     "metadata": {},
     "output_type": "execute_result"
    }
   ],
   "source": [
    "#?\n",
    "type(query_job)"
   ]
  },
  {
   "cell_type": "markdown",
   "metadata": {
    "colab_type": "text",
    "id": "Src6_5auLFaB"
   },
   "source": [
    "Once again, due to lazy execution, no actual execution occurs until we request output:"
   ]
  },
  {
   "cell_type": "code",
   "execution_count": 52,
   "metadata": {
    "colab": {},
    "colab_type": "code",
    "id": "FCz4Yw9jLFaB"
   },
   "outputs": [
    {
     "name": "stdout",
     "output_type": "stream",
     "text": [
      "Row((164656,), {'f0_': 0})\n"
     ]
    }
   ],
   "source": [
    "for row in query_job:  # API request - fetches results\n",
    "    print(row)"
   ]
  },
  {
   "cell_type": "markdown",
   "metadata": {
    "colab_type": "text",
    "id": "CQG3a1oALFaC"
   },
   "source": [
    "And, again, we need to manipulate this to make it neat. Each member of the rowset is a list and we only want to extract the value, which is in the first member:"
   ]
  },
  {
   "cell_type": "code",
   "execution_count": 53,
   "metadata": {
    "colab": {},
    "colab_type": "code",
    "id": "Qcq2F5vzLFaC"
   },
   "outputs": [
    {
     "name": "stdout",
     "output_type": "stream",
     "text": [
      "164656\n"
     ]
    }
   ],
   "source": [
    "print(row[0])"
   ]
  },
  {
   "cell_type": "markdown",
   "metadata": {
    "colab_type": "text",
    "id": "cPqWb1_YLFaD"
   },
   "source": [
    "So, we now know that this table has 164,656 rows. (We would not want to print it!)"
   ]
  },
  {
   "cell_type": "markdown",
   "metadata": {
    "colab_type": "text",
    "id": "6idZY0-3LFaD"
   },
   "source": [
    "A better coding practice is to write SQL statements that assign names (aliases) to derived values, so we don't forget what the resulting rowset contains. Rewite the above SQL statement so that the value returned is aliased a \"num_rows\", and assign the QueryJob as above:"
   ]
  },
  {
   "cell_type": "code",
   "execution_count": 94,
   "metadata": {
    "colab": {},
    "colab_type": "code",
    "id": "NeHVJAm5LFaD"
   },
   "outputs": [],
   "source": [
    "#?\n",
    "# sql = \"SELECT COUNT(1) AS num_rows FROM `bigquery-public-data.samples.austin_311`\"\n",
    "# query_job = client.query(sql)"
   ]
  },
  {
   "cell_type": "markdown",
   "metadata": {
    "colab_type": "text",
    "id": "XUFlZ66lLFaE"
   },
   "source": [
    "Now we could use Python's `assert` statement to build a test into the first code block that operates on the rowset:"
   ]
  },
  {
   "cell_type": "code",
   "execution_count": 87,
   "metadata": {
    "colab": {},
    "colab_type": "code",
    "id": "6MHaNZh0LFaE"
   },
   "outputs": [],
   "source": [
    "for row in query_job:  # API request - fetches results\n",
    "    # Row values can be accessed by field name or index:\n",
    "    assert row[0] == row.num_rows == row['num_rows']  #: for debugging bad sql\n",
    "    print(row.num_rows)"
   ]
  },
  {
   "cell_type": "markdown",
   "metadata": {
    "colab_type": "text",
    "id": "fP4GpU02LFaF"
   },
   "source": [
    "The above code checks that the name attribute of the value in `row[0]` is what we expected (i.e. \"num_rows\"). Also, it shows that we can refer to a field in a row by its object member `num_rows` or by using the same notation we use for Python dictionaries, `['num_rows']`. "
   ]
  },
  {
   "cell_type": "markdown",
   "metadata": {
    "colab_type": "text",
    "id": "y83gunLZLFaF"
   },
   "source": [
    "Write, execute, and print the results of a query that fetches 10 rows from the table, each containing the \"word\", \"word_count\", and \"corpus\" fields: "
   ]
  },
  {
   "cell_type": "code",
   "execution_count": 88,
   "metadata": {
    "colab": {},
    "colab_type": "code",
    "id": "xhvBwHzpLFaG"
   },
   "outputs": [
    {
     "name": "stdout",
     "output_type": "stream",
     "text": [
      "LVII 1 sonnets\n",
      "augurs 1 sonnets\n",
      "dimm'd 1 sonnets\n",
      "plagues 1 sonnets\n",
      "treason 1 sonnets\n",
      "surmise 1 sonnets\n",
      "heed 1 sonnets\n",
      "Unthrifty 1 sonnets\n",
      "quality 1 sonnets\n",
      "wherever 1 sonnets\n"
     ]
    }
   ],
   "source": [
    "#?\n",
    "sql = \"SELECT word, word_count, corpus FROM `bigquery-public-data.samples.shakespeare` LIMIT 10\"\n",
    "query_job = client.query(sql) #E: , location='US') #: OK if client.project = 'myreallybigquery'\n",
    "\n",
    "# print these as above:\n",
    "for row in query_job:  # API request - fetches results\n",
    "    # Now have 3 fields to test (Nb. this approach may be overkill for non-production code):\n",
    "    assert row[0] == row.word == row['word'] \n",
    "    assert row[1] == row.word_count == row['word_count']  \n",
    "    assert row[2] == row.corpus == row['corpus']  \n",
    "    print(row['word'], row['word_count'], row['corpus'])\n"
   ]
  },
  {
   "cell_type": "markdown",
   "metadata": {
    "colab_type": "text",
    "id": "OlGpm9dmLFaH"
   },
   "source": [
    "(NOTE: Using `assert` religiously is good practice and will make debugging easier, but is probably overkill for non-production code.)"
   ]
  },
  {
   "cell_type": "markdown",
   "metadata": {
    "colab_type": "text",
    "id": "md6tWVvHLFaH"
   },
   "source": [
    "Whenever you catch yourself writing a swag of code to do something that seems rudimentary or low-level, there is a very good chance that you don't need to. A much easier way to handle the above requirement is to use the `to_dataframe` method of the QueryJob object:"
   ]
  },
  {
   "cell_type": "code",
   "execution_count": 57,
   "metadata": {
    "colab": {},
    "colab_type": "code",
    "id": "19bjagBHLFaH"
   },
   "outputs": [
    {
     "name": "stdout",
     "output_type": "stream",
     "text": [
      "      f0_\n",
      "0  164656\n"
     ]
    }
   ],
   "source": [
    "df = query_job.to_dataframe()\n",
    "print(df)    "
   ]
  },
  {
   "cell_type": "markdown",
   "metadata": {
    "colab_type": "text",
    "id": "Qc7vdIfALFaJ"
   },
   "source": [
    "Although the above doesn't use `assert` (which you might still want to include in some test code), you will be able to tell at a glance if something is wrong with the contents of the DataFrame."
   ]
  },
  {
   "cell_type": "markdown",
   "metadata": {
    "colab_type": "text",
    "id": "DsWSuO95LFaJ"
   },
   "source": [
    "#### Final Notes"
   ]
  },
  {
   "cell_type": "markdown",
   "metadata": {
    "colab_type": "text",
    "id": "4mKynMuNLFaJ"
   },
   "source": [
    "1. Here is a readable way to code long SQL statements:"
   ]
  },
  {
   "cell_type": "code",
   "execution_count": 95,
   "metadata": {
    "colab": {},
    "colab_type": "code",
    "id": "8nm7i1-rLFaJ"
   },
   "outputs": [],
   "source": [
    "sql = \"\"\"\n",
    "    SELECT word, word_count, corpus \n",
    "    FROM `bigquery-public-data.samples.shakespeare` \n",
    "    LIMIT 10\n",
    "    \"\"\""
   ]
  },
  {
   "cell_type": "markdown",
   "metadata": {
    "colab_type": "text",
    "id": "1j2w1aovLFaK"
   },
   "source": [
    "2. If you had an application that needed to modify the tables or datasets in the `bigquery-public-data` is project, you could copy them to our own project, where you would have the permissions to do as you please with the data (subject to Google's terms of use)."
   ]
  },
  {
   "cell_type": "code",
   "execution_count": 97,
   "metadata": {},
   "outputs": [],
   "source": [
    "# Query_Results = client.query(sql)\n",
    "# df = Query_Results.to_dataframe()\n",
    "# df"
   ]
  },
  {
   "cell_type": "markdown",
   "metadata": {
    "colab_type": "text",
    "id": "mOAZyGTcLFaL"
   },
   "source": [
    "3. We aren't limited to the datasets that are already in BigQuery. We can upload tables from our computer, and we can pull data in from other online souces. We will cover these tasks in another module."
   ]
  },
  {
   "cell_type": "markdown",
   "metadata": {
    "colab_type": "text",
    "id": "PJmK2n7vLFaL"
   },
   "source": [
    "#### Next Steps\n",
    "\n",
    "If you wish to pick up a few more skills you can go to https://cloud.google.com/bigquery/create-simple-app-api. (Note that we have already been through the preliminaries, so you can start at \"Download the sample code\".)\n",
    "\n",
    "Alternatively, you can take a deeper dive into the API here: https://googlecloudplatform.github.io/google-cloud-python/latest/bigquery/usage.html."
   ]
  },
  {
   "cell_type": "markdown",
   "metadata": {
    "colab_type": "text",
    "id": "OFNsekmxLFaM"
   },
   "source": [
    "## - END -"
   ]
  },
  {
   "cell_type": "markdown",
   "metadata": {
    "colab_type": "text",
    "id": "KBAJLLeXLHs8"
   },
   "source": [
    ">\n",
    ">\n"
   ]
  },
  {
   "cell_type": "markdown",
   "metadata": {
    "colab_type": "text",
    "id": "V1AVU7q-LIuO"
   },
   "source": [
    ">\n",
    ">\n"
   ]
  },
  {
   "cell_type": "markdown",
   "metadata": {
    "colab_type": "text",
    "id": "Fpehj_5ELJk9"
   },
   "source": [
    "\n",
    "\n",
    "---\n",
    "\n",
    "\n",
    "\n",
    "---\n",
    "\n",
    "\n",
    "\n",
    "> > > > > > > > > © 2021 Institute of Data\n",
    "\n",
    "\n",
    "---\n",
    "\n",
    "\n",
    "\n",
    "---\n",
    "\n",
    "\n",
    "\n"
   ]
  }
 ],
 "metadata": {
  "colab": {
   "collapsed_sections": [
    "DsWSuO95LFaJ",
    "PJmK2n7vLFaL"
   ],
   "name": "DSIA Lab 2.2.4 .ipynb",
   "provenance": []
  },
  "kernelspec": {
   "display_name": "Python 3",
   "language": "python",
   "name": "python3"
  },
  "language_info": {
   "codemirror_mode": {
    "name": "ipython",
    "version": 3
   },
   "file_extension": ".py",
   "mimetype": "text/x-python",
   "name": "python",
   "nbconvert_exporter": "python",
   "pygments_lexer": "ipython3",
   "version": "3.8.8"
  }
 },
 "nbformat": 4,
 "nbformat_minor": 1
}
